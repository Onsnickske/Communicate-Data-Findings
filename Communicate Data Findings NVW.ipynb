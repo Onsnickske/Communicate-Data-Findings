{
 "cells": [
  {
   "cell_type": "markdown",
   "metadata": {},
   "source": [
    "## Citibike New York City Data Exploration and Visualization.\n",
    "\n",
    "### Experience NYC in a whole new way\n",
    "Citi Bike is the USA's largest bike share program, with 20,000 bikes and over 1,300 stations across Manhattan, Brooklyn, Queens, the Bronx and Jersey City. It was designed for quick trips with convenience in mind, and it’s a fun and affordable way to get around town. This dataset will look at data from New York City in 2020.\n",
    "\n",
    "In addition, I've compiled data for the weather in New York, for 2020. We will analyze both datsets and merge them, then draw our conclusions. I hope you enjoy this together with me. Have fun!"
   ]
  },
  {
   "cell_type": "code",
   "execution_count": 1,
   "metadata": {},
   "outputs": [],
   "source": [
    "# import all packages and set plots to be embedded inline\n",
    "import numpy as np\n",
    "import pandas as pd\n",
    "import matplotlib.pyplot as plt\n",
    "import seaborn as sb\n",
    "import os\n",
    "import glob\n",
    "\n",
    "%matplotlib inline"
   ]
  },
  {
   "cell_type": "markdown",
   "metadata": {},
   "source": [
    "## Gathering and Assessing Data"
   ]
  },
  {
   "cell_type": "code",
   "execution_count": 2,
   "metadata": {},
   "outputs": [
    {
     "name": "stdout",
     "output_type": "stream",
     "text": [
      "(19506857, 15)\n"
     ]
    },
    {
     "data": {
      "text/html": [
       "<div>\n",
       "<style scoped>\n",
       "    .dataframe tbody tr th:only-of-type {\n",
       "        vertical-align: middle;\n",
       "    }\n",
       "\n",
       "    .dataframe tbody tr th {\n",
       "        vertical-align: top;\n",
       "    }\n",
       "\n",
       "    .dataframe thead th {\n",
       "        text-align: right;\n",
       "    }\n",
       "</style>\n",
       "<table border=\"1\" class=\"dataframe\">\n",
       "  <thead>\n",
       "    <tr style=\"text-align: right;\">\n",
       "      <th></th>\n",
       "      <th>tripduration</th>\n",
       "      <th>starttime</th>\n",
       "      <th>stoptime</th>\n",
       "      <th>start station id</th>\n",
       "      <th>start station name</th>\n",
       "      <th>start station latitude</th>\n",
       "      <th>start station longitude</th>\n",
       "      <th>end station id</th>\n",
       "      <th>end station name</th>\n",
       "      <th>end station latitude</th>\n",
       "      <th>end station longitude</th>\n",
       "      <th>bikeid</th>\n",
       "      <th>usertype</th>\n",
       "      <th>birth year</th>\n",
       "      <th>gender</th>\n",
       "    </tr>\n",
       "  </thead>\n",
       "  <tbody>\n",
       "    <tr>\n",
       "      <th>1223914</th>\n",
       "      <td>1098</td>\n",
       "      <td>2020-01-31 16:49:37.6380</td>\n",
       "      <td>2020-01-31 17:07:56.4580</td>\n",
       "      <td>522</td>\n",
       "      <td>E 51 St &amp; Lexington Ave</td>\n",
       "      <td>40.757148</td>\n",
       "      <td>-73.972078</td>\n",
       "      <td>529</td>\n",
       "      <td>W 42 St &amp; 8 Ave</td>\n",
       "      <td>40.757570</td>\n",
       "      <td>-73.990985</td>\n",
       "      <td>29862</td>\n",
       "      <td>Subscriber</td>\n",
       "      <td>1977</td>\n",
       "      <td>1</td>\n",
       "    </tr>\n",
       "    <tr>\n",
       "      <th>15778561</th>\n",
       "      <td>465</td>\n",
       "      <td>2020-10-18 16:08:35.0450</td>\n",
       "      <td>2020-10-18 16:16:20.6820</td>\n",
       "      <td>3795</td>\n",
       "      <td>10 St &amp; 2 Ave</td>\n",
       "      <td>40.671907</td>\n",
       "      <td>-73.993612</td>\n",
       "      <td>3354</td>\n",
       "      <td>3 St &amp; Prospect Park West</td>\n",
       "      <td>40.668132</td>\n",
       "      <td>-73.973638</td>\n",
       "      <td>34772</td>\n",
       "      <td>Subscriber</td>\n",
       "      <td>1987</td>\n",
       "      <td>1</td>\n",
       "    </tr>\n",
       "    <tr>\n",
       "      <th>13392314</th>\n",
       "      <td>773</td>\n",
       "      <td>2020-09-18 16:55:54.6830</td>\n",
       "      <td>2020-09-18 17:08:48.6710</td>\n",
       "      <td>247</td>\n",
       "      <td>Perry St &amp; Bleecker St</td>\n",
       "      <td>40.735354</td>\n",
       "      <td>-74.004831</td>\n",
       "      <td>466</td>\n",
       "      <td>W 25 St &amp; 6 Ave</td>\n",
       "      <td>40.743954</td>\n",
       "      <td>-73.991449</td>\n",
       "      <td>16884</td>\n",
       "      <td>Customer</td>\n",
       "      <td>1969</td>\n",
       "      <td>0</td>\n",
       "    </tr>\n",
       "    <tr>\n",
       "      <th>3518690</th>\n",
       "      <td>859</td>\n",
       "      <td>2020-04-04 15:06:31.4950</td>\n",
       "      <td>2020-04-04 15:20:51.2130</td>\n",
       "      <td>3583</td>\n",
       "      <td>Eastern Pkwy &amp; Washington Ave</td>\n",
       "      <td>40.671649</td>\n",
       "      <td>-73.963115</td>\n",
       "      <td>3041</td>\n",
       "      <td>Kingston Ave &amp; Herkimer St</td>\n",
       "      <td>40.678907</td>\n",
       "      <td>-73.941428</td>\n",
       "      <td>41263</td>\n",
       "      <td>Customer</td>\n",
       "      <td>1983</td>\n",
       "      <td>2</td>\n",
       "    </tr>\n",
       "    <tr>\n",
       "      <th>12907161</th>\n",
       "      <td>479</td>\n",
       "      <td>2020-09-12 20:18:43.4290</td>\n",
       "      <td>2020-09-12 20:26:43.3240</td>\n",
       "      <td>325</td>\n",
       "      <td>E 19 St &amp; 3 Ave</td>\n",
       "      <td>40.736245</td>\n",
       "      <td>-73.984738</td>\n",
       "      <td>334</td>\n",
       "      <td>W 20 St &amp; 7 Ave</td>\n",
       "      <td>40.742388</td>\n",
       "      <td>-73.997262</td>\n",
       "      <td>44008</td>\n",
       "      <td>Subscriber</td>\n",
       "      <td>1995</td>\n",
       "      <td>1</td>\n",
       "    </tr>\n",
       "  </tbody>\n",
       "</table>\n",
       "</div>"
      ],
      "text/plain": [
       "          tripduration                 starttime                  stoptime  \\\n",
       "1223914           1098  2020-01-31 16:49:37.6380  2020-01-31 17:07:56.4580   \n",
       "15778561           465  2020-10-18 16:08:35.0450  2020-10-18 16:16:20.6820   \n",
       "13392314           773  2020-09-18 16:55:54.6830  2020-09-18 17:08:48.6710   \n",
       "3518690            859  2020-04-04 15:06:31.4950  2020-04-04 15:20:51.2130   \n",
       "12907161           479  2020-09-12 20:18:43.4290  2020-09-12 20:26:43.3240   \n",
       "\n",
       "          start station id             start station name  \\\n",
       "1223914                522        E 51 St & Lexington Ave   \n",
       "15778561              3795                  10 St & 2 Ave   \n",
       "13392314               247         Perry St & Bleecker St   \n",
       "3518690               3583  Eastern Pkwy & Washington Ave   \n",
       "12907161               325                E 19 St & 3 Ave   \n",
       "\n",
       "          start station latitude  start station longitude  end station id  \\\n",
       "1223914                40.757148               -73.972078             529   \n",
       "15778561               40.671907               -73.993612            3354   \n",
       "13392314               40.735354               -74.004831             466   \n",
       "3518690                40.671649               -73.963115            3041   \n",
       "12907161               40.736245               -73.984738             334   \n",
       "\n",
       "                    end station name  end station latitude  \\\n",
       "1223914              W 42 St & 8 Ave             40.757570   \n",
       "15778561   3 St & Prospect Park West             40.668132   \n",
       "13392314             W 25 St & 6 Ave             40.743954   \n",
       "3518690   Kingston Ave & Herkimer St             40.678907   \n",
       "12907161             W 20 St & 7 Ave             40.742388   \n",
       "\n",
       "          end station longitude  bikeid    usertype  birth year  gender  \n",
       "1223914              -73.990985   29862  Subscriber        1977       1  \n",
       "15778561             -73.973638   34772  Subscriber        1987       1  \n",
       "13392314             -73.991449   16884    Customer        1969       0  \n",
       "3518690              -73.941428   41263    Customer        1983       2  \n",
       "12907161             -73.997262   44008  Subscriber        1995       1  "
      ]
     },
     "execution_count": 2,
     "metadata": {},
     "output_type": "execute_result"
    }
   ],
   "source": [
    "# I only ran this once to append all the monthly data together.\n",
    "\n",
    "#folder_name = 'Citibike-tripdata'\n",
    "#files = [pd.read_csv(f) for f in glob.glob(os.path.join(folder_name, '*.csv'))]\n",
    "#result = pd.concat(files, ignore_index=True)\n",
    "\n",
    "# Let's see the shape and a sample.\n",
    "#print(result.shape)\n",
    "#result.sample(5)"
   ]
  },
  {
   "cell_type": "code",
   "execution_count": 3,
   "metadata": {},
   "outputs": [],
   "source": [
    "# Let's save the appended files to a single .csv file.\n",
    "\n",
    "#result.to_csv('citybike_trips_2020.csv', index=False)"
   ]
  },
  {
   "cell_type": "code",
   "execution_count": 2,
   "metadata": {},
   "outputs": [
    {
     "data": {
      "text/html": [
       "<div>\n",
       "<style scoped>\n",
       "    .dataframe tbody tr th:only-of-type {\n",
       "        vertical-align: middle;\n",
       "    }\n",
       "\n",
       "    .dataframe tbody tr th {\n",
       "        vertical-align: top;\n",
       "    }\n",
       "\n",
       "    .dataframe thead th {\n",
       "        text-align: right;\n",
       "    }\n",
       "</style>\n",
       "<table border=\"1\" class=\"dataframe\">\n",
       "  <thead>\n",
       "    <tr style=\"text-align: right;\">\n",
       "      <th></th>\n",
       "      <th>tripduration</th>\n",
       "      <th>starttime</th>\n",
       "      <th>stoptime</th>\n",
       "      <th>start station id</th>\n",
       "      <th>start station name</th>\n",
       "      <th>start station latitude</th>\n",
       "      <th>start station longitude</th>\n",
       "      <th>end station id</th>\n",
       "      <th>end station name</th>\n",
       "      <th>end station latitude</th>\n",
       "      <th>end station longitude</th>\n",
       "      <th>bikeid</th>\n",
       "      <th>usertype</th>\n",
       "      <th>birth year</th>\n",
       "      <th>gender</th>\n",
       "    </tr>\n",
       "  </thead>\n",
       "  <tbody>\n",
       "    <tr>\n",
       "      <th>0</th>\n",
       "      <td>789</td>\n",
       "      <td>2020-01-01 00:00:55.3900</td>\n",
       "      <td>2020-01-01 00:14:05.1470</td>\n",
       "      <td>504</td>\n",
       "      <td>1 Ave &amp; E 16 St</td>\n",
       "      <td>40.732219</td>\n",
       "      <td>-73.981656</td>\n",
       "      <td>307</td>\n",
       "      <td>Canal St &amp; Rutgers St</td>\n",
       "      <td>40.714275</td>\n",
       "      <td>-73.989900</td>\n",
       "      <td>30326</td>\n",
       "      <td>Subscriber</td>\n",
       "      <td>1992</td>\n",
       "      <td>1</td>\n",
       "    </tr>\n",
       "    <tr>\n",
       "      <th>1</th>\n",
       "      <td>1541</td>\n",
       "      <td>2020-01-01 00:01:08.1020</td>\n",
       "      <td>2020-01-01 00:26:49.1780</td>\n",
       "      <td>3423</td>\n",
       "      <td>West Drive &amp; Prospect Park West</td>\n",
       "      <td>40.661063</td>\n",
       "      <td>-73.979453</td>\n",
       "      <td>3300</td>\n",
       "      <td>Prospect Park West &amp; 8 St</td>\n",
       "      <td>40.665147</td>\n",
       "      <td>-73.976376</td>\n",
       "      <td>17105</td>\n",
       "      <td>Customer</td>\n",
       "      <td>1969</td>\n",
       "      <td>1</td>\n",
       "    </tr>\n",
       "    <tr>\n",
       "      <th>2</th>\n",
       "      <td>1464</td>\n",
       "      <td>2020-01-01 00:01:42.1400</td>\n",
       "      <td>2020-01-01 00:26:07.0110</td>\n",
       "      <td>3687</td>\n",
       "      <td>E 33 St &amp; 1 Ave</td>\n",
       "      <td>40.743227</td>\n",
       "      <td>-73.974498</td>\n",
       "      <td>259</td>\n",
       "      <td>South St &amp; Whitehall St</td>\n",
       "      <td>40.701221</td>\n",
       "      <td>-74.012342</td>\n",
       "      <td>40177</td>\n",
       "      <td>Subscriber</td>\n",
       "      <td>1963</td>\n",
       "      <td>1</td>\n",
       "    </tr>\n",
       "    <tr>\n",
       "      <th>3</th>\n",
       "      <td>592</td>\n",
       "      <td>2020-01-01 00:01:45.5610</td>\n",
       "      <td>2020-01-01 00:11:38.1550</td>\n",
       "      <td>346</td>\n",
       "      <td>Bank St &amp; Hudson St</td>\n",
       "      <td>40.736529</td>\n",
       "      <td>-74.006180</td>\n",
       "      <td>490</td>\n",
       "      <td>8 Ave &amp; W 33 St</td>\n",
       "      <td>40.751551</td>\n",
       "      <td>-73.993934</td>\n",
       "      <td>27690</td>\n",
       "      <td>Subscriber</td>\n",
       "      <td>1980</td>\n",
       "      <td>1</td>\n",
       "    </tr>\n",
       "    <tr>\n",
       "      <th>4</th>\n",
       "      <td>702</td>\n",
       "      <td>2020-01-01 00:01:45.7880</td>\n",
       "      <td>2020-01-01 00:13:28.2400</td>\n",
       "      <td>372</td>\n",
       "      <td>Franklin Ave &amp; Myrtle Ave</td>\n",
       "      <td>40.694546</td>\n",
       "      <td>-73.958014</td>\n",
       "      <td>3637</td>\n",
       "      <td>Fulton St &amp; Waverly Ave</td>\n",
       "      <td>40.683239</td>\n",
       "      <td>-73.965996</td>\n",
       "      <td>32583</td>\n",
       "      <td>Subscriber</td>\n",
       "      <td>1982</td>\n",
       "      <td>1</td>\n",
       "    </tr>\n",
       "  </tbody>\n",
       "</table>\n",
       "</div>"
      ],
      "text/plain": [
       "   tripduration                 starttime                  stoptime  \\\n",
       "0           789  2020-01-01 00:00:55.3900  2020-01-01 00:14:05.1470   \n",
       "1          1541  2020-01-01 00:01:08.1020  2020-01-01 00:26:49.1780   \n",
       "2          1464  2020-01-01 00:01:42.1400  2020-01-01 00:26:07.0110   \n",
       "3           592  2020-01-01 00:01:45.5610  2020-01-01 00:11:38.1550   \n",
       "4           702  2020-01-01 00:01:45.7880  2020-01-01 00:13:28.2400   \n",
       "\n",
       "   start station id               start station name  start station latitude  \\\n",
       "0               504                  1 Ave & E 16 St               40.732219   \n",
       "1              3423  West Drive & Prospect Park West               40.661063   \n",
       "2              3687                  E 33 St & 1 Ave               40.743227   \n",
       "3               346              Bank St & Hudson St               40.736529   \n",
       "4               372        Franklin Ave & Myrtle Ave               40.694546   \n",
       "\n",
       "   start station longitude  end station id           end station name  \\\n",
       "0               -73.981656             307      Canal St & Rutgers St   \n",
       "1               -73.979453            3300  Prospect Park West & 8 St   \n",
       "2               -73.974498             259    South St & Whitehall St   \n",
       "3               -74.006180             490            8 Ave & W 33 St   \n",
       "4               -73.958014            3637    Fulton St & Waverly Ave   \n",
       "\n",
       "   end station latitude  end station longitude  bikeid    usertype  \\\n",
       "0             40.714275             -73.989900   30326  Subscriber   \n",
       "1             40.665147             -73.976376   17105    Customer   \n",
       "2             40.701221             -74.012342   40177  Subscriber   \n",
       "3             40.751551             -73.993934   27690  Subscriber   \n",
       "4             40.683239             -73.965996   32583  Subscriber   \n",
       "\n",
       "   birth year  gender  \n",
       "0        1992       1  \n",
       "1        1969       1  \n",
       "2        1963       1  \n",
       "3        1980       1  \n",
       "4        1982       1  "
      ]
     },
     "execution_count": 2,
     "metadata": {},
     "output_type": "execute_result"
    }
   ],
   "source": [
    "# Let's import, copy and view the citybike_trips_2020 dataframe.\n",
    "biketrips20 = pd.read_csv('citybike_trips_2020.csv')\n",
    "biketrips20.head()"
   ]
  },
  {
   "cell_type": "markdown",
   "metadata": {},
   "source": [
    "## Column information\n",
    "- Trip Duration (seconds)\n",
    "- Start Time and Date\n",
    "- Stop Time and Date\n",
    "- Start Station ID\n",
    "- Start Station Name\n",
    "- End Station ID\n",
    "- End Station Name\n",
    "- Stations Lat/Long\n",
    "- Bike ID\n",
    "- User Type (Customer = 24-hour pass or 3-day pass user; Subscriber = Annual Member)\n",
    "- Year of Birth\n",
    "- Gender (Zero=unknown; 1=male; 2=female)"
   ]
  },
  {
   "cell_type": "code",
   "execution_count": 3,
   "metadata": {},
   "outputs": [
    {
     "name": "stdout",
     "output_type": "stream",
     "text": [
      "<class 'pandas.core.frame.DataFrame'>\n",
      "RangeIndex: 19506857 entries, 0 to 19506856\n",
      "Data columns (total 15 columns):\n",
      " #   Column                   Dtype  \n",
      "---  ------                   -----  \n",
      " 0   tripduration             int64  \n",
      " 1   starttime                object \n",
      " 2   stoptime                 object \n",
      " 3   start station id         int64  \n",
      " 4   start station name       object \n",
      " 5   start station latitude   float64\n",
      " 6   start station longitude  float64\n",
      " 7   end station id           int64  \n",
      " 8   end station name         object \n",
      " 9   end station latitude     float64\n",
      " 10  end station longitude    float64\n",
      " 11  bikeid                   int64  \n",
      " 12  usertype                 object \n",
      " 13  birth year               int64  \n",
      " 14  gender                   int64  \n",
      "dtypes: float64(4), int64(6), object(5)\n",
      "memory usage: 2.2+ GB\n"
     ]
    }
   ],
   "source": [
    "# Let's check our columns and the data types.\n",
    "biketrips20.info()"
   ]
  },
  {
   "cell_type": "code",
   "execution_count": 4,
   "metadata": {},
   "outputs": [
    {
     "data": {
      "text/plain": [
       "tripduration               0\n",
       "starttime                  0\n",
       "stoptime                   0\n",
       "start station id           0\n",
       "start station name         0\n",
       "start station latitude     0\n",
       "start station longitude    0\n",
       "end station id             0\n",
       "end station name           0\n",
       "end station latitude       0\n",
       "end station longitude      0\n",
       "bikeid                     0\n",
       "usertype                   0\n",
       "birth year                 0\n",
       "gender                     0\n",
       "dtype: int64"
      ]
     },
     "execution_count": 4,
     "metadata": {},
     "output_type": "execute_result"
    }
   ],
   "source": [
    "# Any Nulls?\n",
    "biketrips20.isnull().sum()"
   ]
  },
  {
   "cell_type": "code",
   "execution_count": 5,
   "metadata": {},
   "outputs": [
    {
     "data": {
      "text/plain": [
       "0"
      ]
     },
     "execution_count": 5,
     "metadata": {},
     "output_type": "execute_result"
    }
   ],
   "source": [
    "# Any duplicates?\n",
    "biketrips20.duplicated().sum()"
   ]
  },
  {
   "cell_type": "code",
   "execution_count": 6,
   "metadata": {},
   "outputs": [
    {
     "data": {
      "text/plain": [
       "1    11798407\n",
       "2     5551873\n",
       "0     2156577\n",
       "Name: gender, dtype: int64"
      ]
     },
     "execution_count": 6,
     "metadata": {},
     "output_type": "execute_result"
    }
   ],
   "source": [
    "# The gender column has 3 values, 0 being unknown. How many records are there of Male, Female and unknown?\n",
    "biketrips20.gender.value_counts()"
   ]
  },
  {
   "cell_type": "code",
   "execution_count": 7,
   "metadata": {
    "scrolled": true
   },
   "outputs": [
    {
     "data": {
      "text/plain": [
       "Subscriber    14955766\n",
       "Customer       4551091\n",
       "Name: usertype, dtype: int64"
      ]
     },
     "execution_count": 7,
     "metadata": {},
     "output_type": "execute_result"
    }
   ],
   "source": [
    "# How about our usertype?\n",
    "biketrips20.usertype.value_counts()"
   ]
  },
  {
   "cell_type": "code",
   "execution_count": 8,
   "metadata": {},
   "outputs": [
    {
     "data": {
      "text/html": [
       "<div>\n",
       "<style scoped>\n",
       "    .dataframe tbody tr th:only-of-type {\n",
       "        vertical-align: middle;\n",
       "    }\n",
       "\n",
       "    .dataframe tbody tr th {\n",
       "        vertical-align: top;\n",
       "    }\n",
       "\n",
       "    .dataframe thead th {\n",
       "        text-align: right;\n",
       "    }\n",
       "</style>\n",
       "<table border=\"1\" class=\"dataframe\">\n",
       "  <thead>\n",
       "    <tr style=\"text-align: right;\">\n",
       "      <th></th>\n",
       "      <th>Date</th>\n",
       "      <th>Avg_Temp</th>\n",
       "      <th>Avg_Wind_Speed(mph)</th>\n",
       "      <th>Precipitation(in)</th>\n",
       "    </tr>\n",
       "  </thead>\n",
       "  <tbody>\n",
       "    <tr>\n",
       "      <th>0</th>\n",
       "      <td>01/01/2020</td>\n",
       "      <td>3.39</td>\n",
       "      <td>15.9</td>\n",
       "      <td>0.01</td>\n",
       "    </tr>\n",
       "    <tr>\n",
       "      <th>1</th>\n",
       "      <td>02/01/2020</td>\n",
       "      <td>5.61</td>\n",
       "      <td>8.3</td>\n",
       "      <td>0.00</td>\n",
       "    </tr>\n",
       "    <tr>\n",
       "      <th>2</th>\n",
       "      <td>03/01/2020</td>\n",
       "      <td>8.17</td>\n",
       "      <td>4.9</td>\n",
       "      <td>0.05</td>\n",
       "    </tr>\n",
       "    <tr>\n",
       "      <th>3</th>\n",
       "      <td>04/01/2020</td>\n",
       "      <td>7.83</td>\n",
       "      <td>6.8</td>\n",
       "      <td>0.32</td>\n",
       "    </tr>\n",
       "    <tr>\n",
       "      <th>4</th>\n",
       "      <td>05/01/2020</td>\n",
       "      <td>3.44</td>\n",
       "      <td>20.2</td>\n",
       "      <td>0.01</td>\n",
       "    </tr>\n",
       "  </tbody>\n",
       "</table>\n",
       "</div>"
      ],
      "text/plain": [
       "         Date  Avg_Temp  Avg_Wind_Speed(mph)  Precipitation(in)\n",
       "0  01/01/2020      3.39                 15.9               0.01\n",
       "1  02/01/2020      5.61                  8.3               0.00\n",
       "2  03/01/2020      8.17                  4.9               0.05\n",
       "3  04/01/2020      7.83                  6.8               0.32\n",
       "4  05/01/2020      3.44                 20.2               0.01"
      ]
     },
     "execution_count": 8,
     "metadata": {},
     "output_type": "execute_result"
    }
   ],
   "source": [
    "# Let's import and view the Weather dataframe\n",
    "weather_import = pd.read_csv('NYWeather2020NVW.txt')\n",
    "weather_import.head()"
   ]
  },
  {
   "cell_type": "code",
   "execution_count": 9,
   "metadata": {},
   "outputs": [
    {
     "name": "stdout",
     "output_type": "stream",
     "text": [
      "<class 'pandas.core.frame.DataFrame'>\n",
      "RangeIndex: 365 entries, 0 to 364\n",
      "Data columns (total 4 columns):\n",
      " #   Column               Non-Null Count  Dtype  \n",
      "---  ------               --------------  -----  \n",
      " 0   Date                 365 non-null    object \n",
      " 1   Avg_Temp             365 non-null    float64\n",
      " 2   Avg_Wind_Speed(mph)  365 non-null    float64\n",
      " 3   Precipitation(in)    365 non-null    float64\n",
      "dtypes: float64(3), object(1)\n",
      "memory usage: 11.5+ KB\n"
     ]
    }
   ],
   "source": [
    "# What do our columns look like? ** I did additional visual exploring using Excel for these files.\n",
    "weather_import.info()"
   ]
  },
  {
   "cell_type": "code",
   "execution_count": 10,
   "metadata": {},
   "outputs": [
    {
     "data": {
      "text/plain": [
       "Date                   0\n",
       "Avg_Temp               0\n",
       "Avg_Wind_Speed(mph)    0\n",
       "Precipitation(in)      0\n",
       "dtype: int64"
      ]
     },
     "execution_count": 10,
     "metadata": {},
     "output_type": "execute_result"
    }
   ],
   "source": [
    "# Any Nulls?\n",
    "weather_import.isnull().sum()"
   ]
  },
  {
   "cell_type": "markdown",
   "metadata": {},
   "source": [
    "# Cleaning Data"
   ]
  },
  {
   "cell_type": "code",
   "execution_count": 11,
   "metadata": {},
   "outputs": [
    {
     "name": "stdout",
     "output_type": "stream",
     "text": [
      "<class 'pandas.core.frame.DataFrame'>\n",
      "Int64Index: 17350280 entries, 0 to 19506855\n",
      "Data columns (total 15 columns):\n",
      " #   Column                   Non-Null Count     Dtype         \n",
      "---  ------                   --------------     -----         \n",
      " 0   tripduration             17350280 non-null  int64         \n",
      " 1   starttime                17350280 non-null  datetime64[ns]\n",
      " 2   stoptime                 17350280 non-null  datetime64[ns]\n",
      " 3   start station id         17350280 non-null  object        \n",
      " 4   start station name       17350280 non-null  object        \n",
      " 5   start station latitude   17350280 non-null  float64       \n",
      " 6   start station longitude  17350280 non-null  float64       \n",
      " 7   end station id           17350280 non-null  object        \n",
      " 8   end station name         17350280 non-null  object        \n",
      " 9   end station latitude     17350280 non-null  float64       \n",
      " 10  end station longitude    17350280 non-null  float64       \n",
      " 11  bikeid                   17350280 non-null  object        \n",
      " 12  usertype                 17350280 non-null  category      \n",
      " 13  birth year               17350280 non-null  int64         \n",
      " 14  gender                   17350280 non-null  category      \n",
      "dtypes: category(2), datetime64[ns](2), float64(4), int64(2), object(5)\n",
      "memory usage: 1.8+ GB\n"
     ]
    }
   ],
   "source": [
    "# Let's make a copy of the biketrips20 dataframe for cleaning purposes.\n",
    "\n",
    "bt20 = biketrips20.copy()\n",
    "\n",
    "# Remove records for unknown gender. We have a massive amount of records, so deleting these are justified.\n",
    "bt20 = bt20[bt20['gender'] != 0]\n",
    "\n",
    "#Change date columns to datetime format, change the id's into objects and usertype and gender as category type.\n",
    "bt20['starttime'] = pd.to_datetime(bt20['starttime'])\n",
    "bt20['stoptime'] = pd.to_datetime(bt20['stoptime'])\n",
    "\n",
    "bt20['start station id'] = bt20['start station id'].astype('str')\n",
    "bt20['end station id'] = bt20['end station id'].astype('str')\n",
    "bt20['bikeid'] = bt20['bikeid'].astype('str')\n",
    "\n",
    "bt20['usertype'] = bt20['usertype'].astype('category')\n",
    "bt20['gender'] = bt20['gender'].astype('category')\n",
    "\n",
    "# Let's have a look if that worked.\n",
    "bt20.info(null_counts=True)"
   ]
  },
  {
   "cell_type": "code",
   "execution_count": 12,
   "metadata": {},
   "outputs": [
    {
     "data": {
      "text/html": [
       "<div>\n",
       "<style scoped>\n",
       "    .dataframe tbody tr th:only-of-type {\n",
       "        vertical-align: middle;\n",
       "    }\n",
       "\n",
       "    .dataframe tbody tr th {\n",
       "        vertical-align: top;\n",
       "    }\n",
       "\n",
       "    .dataframe thead th {\n",
       "        text-align: right;\n",
       "    }\n",
       "</style>\n",
       "<table border=\"1\" class=\"dataframe\">\n",
       "  <thead>\n",
       "    <tr style=\"text-align: right;\">\n",
       "      <th></th>\n",
       "      <th>tripduration</th>\n",
       "      <th>starttime</th>\n",
       "      <th>stoptime</th>\n",
       "      <th>start station id</th>\n",
       "      <th>start station name</th>\n",
       "      <th>start station latitude</th>\n",
       "      <th>start station longitude</th>\n",
       "      <th>end station id</th>\n",
       "      <th>end station name</th>\n",
       "      <th>end station latitude</th>\n",
       "      <th>end station longitude</th>\n",
       "      <th>bikeid</th>\n",
       "      <th>usertype</th>\n",
       "      <th>birth year</th>\n",
       "      <th>gender</th>\n",
       "      <th>duration_mins</th>\n",
       "      <th>Date</th>\n",
       "      <th>hourofday</th>\n",
       "      <th>dayofweek</th>\n",
       "      <th>month</th>\n",
       "    </tr>\n",
       "  </thead>\n",
       "  <tbody>\n",
       "    <tr>\n",
       "      <th>0</th>\n",
       "      <td>789</td>\n",
       "      <td>2020-01-01 00:00:55.390</td>\n",
       "      <td>2020-01-01 00:14:05.147</td>\n",
       "      <td>504</td>\n",
       "      <td>1 Ave &amp; E 16 St</td>\n",
       "      <td>40.732219</td>\n",
       "      <td>-73.981656</td>\n",
       "      <td>307</td>\n",
       "      <td>Canal St &amp; Rutgers St</td>\n",
       "      <td>40.714275</td>\n",
       "      <td>-73.989900</td>\n",
       "      <td>30326</td>\n",
       "      <td>Subscriber</td>\n",
       "      <td>1992</td>\n",
       "      <td>1</td>\n",
       "      <td>13.150000</td>\n",
       "      <td>2020-01-01</td>\n",
       "      <td>00</td>\n",
       "      <td>Wednesday</td>\n",
       "      <td>January</td>\n",
       "    </tr>\n",
       "    <tr>\n",
       "      <th>1</th>\n",
       "      <td>1541</td>\n",
       "      <td>2020-01-01 00:01:08.102</td>\n",
       "      <td>2020-01-01 00:26:49.178</td>\n",
       "      <td>3423</td>\n",
       "      <td>West Drive &amp; Prospect Park West</td>\n",
       "      <td>40.661063</td>\n",
       "      <td>-73.979453</td>\n",
       "      <td>3300</td>\n",
       "      <td>Prospect Park West &amp; 8 St</td>\n",
       "      <td>40.665147</td>\n",
       "      <td>-73.976376</td>\n",
       "      <td>17105</td>\n",
       "      <td>Customer</td>\n",
       "      <td>1969</td>\n",
       "      <td>1</td>\n",
       "      <td>25.683333</td>\n",
       "      <td>2020-01-01</td>\n",
       "      <td>00</td>\n",
       "      <td>Wednesday</td>\n",
       "      <td>January</td>\n",
       "    </tr>\n",
       "    <tr>\n",
       "      <th>2</th>\n",
       "      <td>1464</td>\n",
       "      <td>2020-01-01 00:01:42.140</td>\n",
       "      <td>2020-01-01 00:26:07.011</td>\n",
       "      <td>3687</td>\n",
       "      <td>E 33 St &amp; 1 Ave</td>\n",
       "      <td>40.743227</td>\n",
       "      <td>-73.974498</td>\n",
       "      <td>259</td>\n",
       "      <td>South St &amp; Whitehall St</td>\n",
       "      <td>40.701221</td>\n",
       "      <td>-74.012342</td>\n",
       "      <td>40177</td>\n",
       "      <td>Subscriber</td>\n",
       "      <td>1963</td>\n",
       "      <td>1</td>\n",
       "      <td>24.400000</td>\n",
       "      <td>2020-01-01</td>\n",
       "      <td>00</td>\n",
       "      <td>Wednesday</td>\n",
       "      <td>January</td>\n",
       "    </tr>\n",
       "    <tr>\n",
       "      <th>3</th>\n",
       "      <td>592</td>\n",
       "      <td>2020-01-01 00:01:45.561</td>\n",
       "      <td>2020-01-01 00:11:38.155</td>\n",
       "      <td>346</td>\n",
       "      <td>Bank St &amp; Hudson St</td>\n",
       "      <td>40.736529</td>\n",
       "      <td>-74.006180</td>\n",
       "      <td>490</td>\n",
       "      <td>8 Ave &amp; W 33 St</td>\n",
       "      <td>40.751551</td>\n",
       "      <td>-73.993934</td>\n",
       "      <td>27690</td>\n",
       "      <td>Subscriber</td>\n",
       "      <td>1980</td>\n",
       "      <td>1</td>\n",
       "      <td>9.866667</td>\n",
       "      <td>2020-01-01</td>\n",
       "      <td>00</td>\n",
       "      <td>Wednesday</td>\n",
       "      <td>January</td>\n",
       "    </tr>\n",
       "    <tr>\n",
       "      <th>4</th>\n",
       "      <td>702</td>\n",
       "      <td>2020-01-01 00:01:45.788</td>\n",
       "      <td>2020-01-01 00:13:28.240</td>\n",
       "      <td>372</td>\n",
       "      <td>Franklin Ave &amp; Myrtle Ave</td>\n",
       "      <td>40.694546</td>\n",
       "      <td>-73.958014</td>\n",
       "      <td>3637</td>\n",
       "      <td>Fulton St &amp; Waverly Ave</td>\n",
       "      <td>40.683239</td>\n",
       "      <td>-73.965996</td>\n",
       "      <td>32583</td>\n",
       "      <td>Subscriber</td>\n",
       "      <td>1982</td>\n",
       "      <td>1</td>\n",
       "      <td>11.700000</td>\n",
       "      <td>2020-01-01</td>\n",
       "      <td>00</td>\n",
       "      <td>Wednesday</td>\n",
       "      <td>January</td>\n",
       "    </tr>\n",
       "  </tbody>\n",
       "</table>\n",
       "</div>"
      ],
      "text/plain": [
       "   tripduration               starttime                stoptime  \\\n",
       "0           789 2020-01-01 00:00:55.390 2020-01-01 00:14:05.147   \n",
       "1          1541 2020-01-01 00:01:08.102 2020-01-01 00:26:49.178   \n",
       "2          1464 2020-01-01 00:01:42.140 2020-01-01 00:26:07.011   \n",
       "3           592 2020-01-01 00:01:45.561 2020-01-01 00:11:38.155   \n",
       "4           702 2020-01-01 00:01:45.788 2020-01-01 00:13:28.240   \n",
       "\n",
       "  start station id               start station name  start station latitude  \\\n",
       "0              504                  1 Ave & E 16 St               40.732219   \n",
       "1             3423  West Drive & Prospect Park West               40.661063   \n",
       "2             3687                  E 33 St & 1 Ave               40.743227   \n",
       "3              346              Bank St & Hudson St               40.736529   \n",
       "4              372        Franklin Ave & Myrtle Ave               40.694546   \n",
       "\n",
       "   start station longitude end station id           end station name  \\\n",
       "0               -73.981656            307      Canal St & Rutgers St   \n",
       "1               -73.979453           3300  Prospect Park West & 8 St   \n",
       "2               -73.974498            259    South St & Whitehall St   \n",
       "3               -74.006180            490            8 Ave & W 33 St   \n",
       "4               -73.958014           3637    Fulton St & Waverly Ave   \n",
       "\n",
       "   end station latitude  end station longitude bikeid    usertype  birth year  \\\n",
       "0             40.714275             -73.989900  30326  Subscriber        1992   \n",
       "1             40.665147             -73.976376  17105    Customer        1969   \n",
       "2             40.701221             -74.012342  40177  Subscriber        1963   \n",
       "3             40.751551             -73.993934  27690  Subscriber        1980   \n",
       "4             40.683239             -73.965996  32583  Subscriber        1982   \n",
       "\n",
       "  gender  duration_mins        Date hourofday  dayofweek    month  \n",
       "0      1      13.150000  2020-01-01        00  Wednesday  January  \n",
       "1      1      25.683333  2020-01-01        00  Wednesday  January  \n",
       "2      1      24.400000  2020-01-01        00  Wednesday  January  \n",
       "3      1       9.866667  2020-01-01        00  Wednesday  January  \n",
       "4      1      11.700000  2020-01-01        00  Wednesday  January  "
      ]
     },
     "execution_count": 12,
     "metadata": {},
     "output_type": "execute_result"
    }
   ],
   "source": [
    "# Let's add the new columns for the duration in minutes, the date in yyyy-mm-dd format, the hour of the day, \n",
    "# the day of the week and the month.These will help us analyze the data.\n",
    "\n",
    "bt20['duration_mins'] = bt20['tripduration']/60\n",
    "\n",
    "bt20['Date'] = bt20.starttime.dt.strftime('%Y-%m-%d')\n",
    "bt20['hourofday'] = bt20.starttime.dt.strftime('%H')\n",
    "bt20['dayofweek'] = bt20.starttime.dt.strftime('%A')\n",
    "bt20['month'] = bt20.starttime.dt.strftime('%B')\n",
    "\n",
    "# And let's take a look.\n",
    "bt20.head()"
   ]
  },
  {
   "cell_type": "code",
   "execution_count": 13,
   "metadata": {},
   "outputs": [
    {
     "data": {
      "text/html": [
       "<div>\n",
       "<style scoped>\n",
       "    .dataframe tbody tr th:only-of-type {\n",
       "        vertical-align: middle;\n",
       "    }\n",
       "\n",
       "    .dataframe tbody tr th {\n",
       "        vertical-align: top;\n",
       "    }\n",
       "\n",
       "    .dataframe thead th {\n",
       "        text-align: right;\n",
       "    }\n",
       "</style>\n",
       "<table border=\"1\" class=\"dataframe\">\n",
       "  <thead>\n",
       "    <tr style=\"text-align: right;\">\n",
       "      <th></th>\n",
       "      <th>Date</th>\n",
       "      <th>Avg_Temp</th>\n",
       "      <th>Avg_Wind_Speed(mph)</th>\n",
       "      <th>Precipitation(in)</th>\n",
       "    </tr>\n",
       "  </thead>\n",
       "  <tbody>\n",
       "    <tr>\n",
       "      <th>0</th>\n",
       "      <td>01/01/2020</td>\n",
       "      <td>3.39</td>\n",
       "      <td>15.9</td>\n",
       "      <td>0.01</td>\n",
       "    </tr>\n",
       "    <tr>\n",
       "      <th>1</th>\n",
       "      <td>02/01/2020</td>\n",
       "      <td>5.61</td>\n",
       "      <td>8.3</td>\n",
       "      <td>0.00</td>\n",
       "    </tr>\n",
       "    <tr>\n",
       "      <th>2</th>\n",
       "      <td>03/01/2020</td>\n",
       "      <td>8.17</td>\n",
       "      <td>4.9</td>\n",
       "      <td>0.05</td>\n",
       "    </tr>\n",
       "    <tr>\n",
       "      <th>3</th>\n",
       "      <td>04/01/2020</td>\n",
       "      <td>7.83</td>\n",
       "      <td>6.8</td>\n",
       "      <td>0.32</td>\n",
       "    </tr>\n",
       "    <tr>\n",
       "      <th>4</th>\n",
       "      <td>05/01/2020</td>\n",
       "      <td>3.44</td>\n",
       "      <td>20.2</td>\n",
       "      <td>0.01</td>\n",
       "    </tr>\n",
       "  </tbody>\n",
       "</table>\n",
       "</div>"
      ],
      "text/plain": [
       "         Date  Avg_Temp  Avg_Wind_Speed(mph)  Precipitation(in)\n",
       "0  01/01/2020      3.39                 15.9               0.01\n",
       "1  02/01/2020      5.61                  8.3               0.00\n",
       "2  03/01/2020      8.17                  4.9               0.05\n",
       "3  04/01/2020      7.83                  6.8               0.32\n",
       "4  05/01/2020      3.44                 20.2               0.01"
      ]
     },
     "execution_count": 13,
     "metadata": {},
     "output_type": "execute_result"
    }
   ],
   "source": [
    "# Now, let's make a copy of the weather_import dataframe for cleaning purposes.\n",
    "weather = weather_import.copy()\n",
    "weather.head()"
   ]
  },
  {
   "cell_type": "code",
   "execution_count": 14,
   "metadata": {},
   "outputs": [
    {
     "name": "stdout",
     "output_type": "stream",
     "text": [
      "<class 'pandas.core.frame.DataFrame'>\n",
      "RangeIndex: 365 entries, 0 to 364\n",
      "Data columns (total 4 columns):\n",
      " #   Column               Non-Null Count  Dtype  \n",
      "---  ------               --------------  -----  \n",
      " 0   Date                 365 non-null    object \n",
      " 1   Avg_Temp             365 non-null    float64\n",
      " 2   Avg_Wind_Speed(mph)  365 non-null    float64\n",
      " 3   Precipitation(in)    365 non-null    float64\n",
      "dtypes: float64(3), object(1)\n",
      "memory usage: 11.5+ KB\n"
     ]
    }
   ],
   "source": [
    "# checking the datatypes of the columns.\n",
    "weather.info()"
   ]
  },
  {
   "cell_type": "code",
   "execution_count": 15,
   "metadata": {},
   "outputs": [
    {
     "name": "stdout",
     "output_type": "stream",
     "text": [
      "<class 'pandas.core.frame.DataFrame'>\n",
      "Int64Index: 17350280 entries, 0 to 19506855\n",
      "Data columns (total 20 columns):\n",
      " #   Column                   Dtype         \n",
      "---  ------                   -----         \n",
      " 0   tripduration             int64         \n",
      " 1   starttime                datetime64[ns]\n",
      " 2   stoptime                 datetime64[ns]\n",
      " 3   start station id         object        \n",
      " 4   start station name       object        \n",
      " 5   start station latitude   float64       \n",
      " 6   start station longitude  float64       \n",
      " 7   end station id           object        \n",
      " 8   end station name         object        \n",
      " 9   end station latitude     float64       \n",
      " 10  end station longitude    float64       \n",
      " 11  bikeid                   object        \n",
      " 12  usertype                 category      \n",
      " 13  birth year               int64         \n",
      " 14  gender                   category      \n",
      " 15  duration_mins            float64       \n",
      " 16  Date                     object        \n",
      " 17  hourofday                object        \n",
      " 18  dayofweek                object        \n",
      " 19  month                    object        \n",
      "dtypes: category(2), datetime64[ns](2), float64(5), int64(2), object(9)\n",
      "memory usage: 2.5+ GB\n"
     ]
    }
   ],
   "source": [
    "# I'm thinking about joining these two dataframes, let me take another look at the column types of bt20.\n",
    "bt20.info()"
   ]
  },
  {
   "cell_type": "code",
   "execution_count": 16,
   "metadata": {},
   "outputs": [],
   "source": [
    "# I'm changing this to datetime format.\n",
    "weather['Date'] = pd.to_datetime(weather['Date'])"
   ]
  },
  {
   "cell_type": "code",
   "execution_count": 17,
   "metadata": {},
   "outputs": [
    {
     "name": "stdout",
     "output_type": "stream",
     "text": [
      "<class 'pandas.core.frame.DataFrame'>\n",
      "RangeIndex: 365 entries, 0 to 364\n",
      "Data columns (total 4 columns):\n",
      " #   Column               Non-Null Count  Dtype         \n",
      "---  ------               --------------  -----         \n",
      " 0   Date                 365 non-null    datetime64[ns]\n",
      " 1   Avg_Temp             365 non-null    float64       \n",
      " 2   Avg_Wind_Speed(mph)  365 non-null    float64       \n",
      " 3   Precipitation(in)    365 non-null    float64       \n",
      "dtypes: datetime64[ns](1), float64(3)\n",
      "memory usage: 11.5 KB\n"
     ]
    }
   ],
   "source": [
    "# Checking it's successful.\n",
    "weather.info()"
   ]
  },
  {
   "cell_type": "code",
   "execution_count": 18,
   "metadata": {},
   "outputs": [],
   "source": [
    "# Now changing it back again to object, so I can merge it.\n",
    "weather['Date'] = weather['Date'].astype('str')"
   ]
  },
  {
   "cell_type": "code",
   "execution_count": 19,
   "metadata": {},
   "outputs": [
    {
     "data": {
      "text/html": [
       "<div>\n",
       "<style scoped>\n",
       "    .dataframe tbody tr th:only-of-type {\n",
       "        vertical-align: middle;\n",
       "    }\n",
       "\n",
       "    .dataframe tbody tr th {\n",
       "        vertical-align: top;\n",
       "    }\n",
       "\n",
       "    .dataframe thead th {\n",
       "        text-align: right;\n",
       "    }\n",
       "</style>\n",
       "<table border=\"1\" class=\"dataframe\">\n",
       "  <thead>\n",
       "    <tr style=\"text-align: right;\">\n",
       "      <th></th>\n",
       "      <th>Date</th>\n",
       "      <th>Avg_Temp</th>\n",
       "      <th>Avg_Wind_Speed(mph)</th>\n",
       "      <th>Precipitation(in)</th>\n",
       "    </tr>\n",
       "  </thead>\n",
       "  <tbody>\n",
       "    <tr>\n",
       "      <th>0</th>\n",
       "      <td>2020-01-01</td>\n",
       "      <td>3.39</td>\n",
       "      <td>15.9</td>\n",
       "      <td>0.01</td>\n",
       "    </tr>\n",
       "    <tr>\n",
       "      <th>1</th>\n",
       "      <td>2020-02-01</td>\n",
       "      <td>5.61</td>\n",
       "      <td>8.3</td>\n",
       "      <td>0.00</td>\n",
       "    </tr>\n",
       "    <tr>\n",
       "      <th>2</th>\n",
       "      <td>2020-03-01</td>\n",
       "      <td>8.17</td>\n",
       "      <td>4.9</td>\n",
       "      <td>0.05</td>\n",
       "    </tr>\n",
       "    <tr>\n",
       "      <th>3</th>\n",
       "      <td>2020-04-01</td>\n",
       "      <td>7.83</td>\n",
       "      <td>6.8</td>\n",
       "      <td>0.32</td>\n",
       "    </tr>\n",
       "    <tr>\n",
       "      <th>4</th>\n",
       "      <td>2020-05-01</td>\n",
       "      <td>3.44</td>\n",
       "      <td>20.2</td>\n",
       "      <td>0.01</td>\n",
       "    </tr>\n",
       "  </tbody>\n",
       "</table>\n",
       "</div>"
      ],
      "text/plain": [
       "         Date  Avg_Temp  Avg_Wind_Speed(mph)  Precipitation(in)\n",
       "0  2020-01-01      3.39                 15.9               0.01\n",
       "1  2020-02-01      5.61                  8.3               0.00\n",
       "2  2020-03-01      8.17                  4.9               0.05\n",
       "3  2020-04-01      7.83                  6.8               0.32\n",
       "4  2020-05-01      3.44                 20.2               0.01"
      ]
     },
     "execution_count": 19,
     "metadata": {},
     "output_type": "execute_result"
    }
   ],
   "source": [
    "# The reason we did the above is to convert the Date into the same format on both tables.\n",
    "# Now we can see that the date is exactly the same in both dataframes, so it'll merge correctly.\n",
    "weather.head()"
   ]
  },
  {
   "cell_type": "code",
   "execution_count": 20,
   "metadata": {},
   "outputs": [],
   "source": [
    "# Now we'll merge, using an inner join, weather df first, so the merge should say ok, for day 1(2020-01-01), \n",
    "# we have Avg_temp of 3.39, Avg wind of 15.9 and precip of 0.01 in the weather df.\n",
    "# For this day 1(2020-01-01), we also have the following rows from bt20, and copy across all rows for day 1(2020-01-01), \n",
    "# the values for Avg_temp of 3.39, Avg wind of 15.9 and precip of 0.01 would be duplicated for day 1 for all rows from bt20.\n",
    "\n",
    "merged = pd.merge(weather, bt20)"
   ]
  },
  {
   "cell_type": "code",
   "execution_count": 21,
   "metadata": {},
   "outputs": [
    {
     "name": "stdout",
     "output_type": "stream",
     "text": [
      "<class 'pandas.core.frame.DataFrame'>\n",
      "Int64Index: 17326549 entries, 0 to 17326548\n",
      "Data columns (total 23 columns):\n",
      " #   Column                   Dtype         \n",
      "---  ------                   -----         \n",
      " 0   Date                     object        \n",
      " 1   Avg_Temp                 float64       \n",
      " 2   Avg_Wind_Speed(mph)      float64       \n",
      " 3   Precipitation(in)        float64       \n",
      " 4   tripduration             int64         \n",
      " 5   starttime                datetime64[ns]\n",
      " 6   stoptime                 datetime64[ns]\n",
      " 7   start station id         object        \n",
      " 8   start station name       object        \n",
      " 9   start station latitude   float64       \n",
      " 10  start station longitude  float64       \n",
      " 11  end station id           object        \n",
      " 12  end station name         object        \n",
      " 13  end station latitude     float64       \n",
      " 14  end station longitude    float64       \n",
      " 15  bikeid                   object        \n",
      " 16  usertype                 category      \n",
      " 17  birth year               int64         \n",
      " 18  gender                   category      \n",
      " 19  duration_mins            float64       \n",
      " 20  hourofday                object        \n",
      " 21  dayofweek                object        \n",
      " 22  month                    object        \n",
      "dtypes: category(2), datetime64[ns](2), float64(8), int64(2), object(9)\n",
      "memory usage: 2.9+ GB\n"
     ]
    }
   ],
   "source": [
    "# Let's take a look.\n",
    "merged.info()"
   ]
  },
  {
   "cell_type": "code",
   "execution_count": 22,
   "metadata": {},
   "outputs": [
    {
     "data": {
      "text/html": [
       "<div>\n",
       "<style scoped>\n",
       "    .dataframe tbody tr th:only-of-type {\n",
       "        vertical-align: middle;\n",
       "    }\n",
       "\n",
       "    .dataframe tbody tr th {\n",
       "        vertical-align: top;\n",
       "    }\n",
       "\n",
       "    .dataframe thead th {\n",
       "        text-align: right;\n",
       "    }\n",
       "</style>\n",
       "<table border=\"1\" class=\"dataframe\">\n",
       "  <thead>\n",
       "    <tr style=\"text-align: right;\">\n",
       "      <th></th>\n",
       "      <th>Date</th>\n",
       "      <th>Avg_Temp</th>\n",
       "      <th>Avg_Wind_Speed(mph)</th>\n",
       "      <th>Precipitation(in)</th>\n",
       "      <th>tripduration</th>\n",
       "      <th>starttime</th>\n",
       "      <th>stoptime</th>\n",
       "      <th>start station id</th>\n",
       "      <th>start station name</th>\n",
       "      <th>start station latitude</th>\n",
       "      <th>...</th>\n",
       "      <th>end station latitude</th>\n",
       "      <th>end station longitude</th>\n",
       "      <th>bikeid</th>\n",
       "      <th>usertype</th>\n",
       "      <th>birth year</th>\n",
       "      <th>gender</th>\n",
       "      <th>duration_mins</th>\n",
       "      <th>hourofday</th>\n",
       "      <th>dayofweek</th>\n",
       "      <th>month</th>\n",
       "    </tr>\n",
       "  </thead>\n",
       "  <tbody>\n",
       "    <tr>\n",
       "      <th>0</th>\n",
       "      <td>2020-01-01</td>\n",
       "      <td>3.39</td>\n",
       "      <td>15.9</td>\n",
       "      <td>0.01</td>\n",
       "      <td>789</td>\n",
       "      <td>2020-01-01 00:00:55.390</td>\n",
       "      <td>2020-01-01 00:14:05.147</td>\n",
       "      <td>504</td>\n",
       "      <td>1 Ave &amp; E 16 St</td>\n",
       "      <td>40.732219</td>\n",
       "      <td>...</td>\n",
       "      <td>40.714275</td>\n",
       "      <td>-73.989900</td>\n",
       "      <td>30326</td>\n",
       "      <td>Subscriber</td>\n",
       "      <td>1992</td>\n",
       "      <td>1</td>\n",
       "      <td>13.150000</td>\n",
       "      <td>00</td>\n",
       "      <td>Wednesday</td>\n",
       "      <td>January</td>\n",
       "    </tr>\n",
       "    <tr>\n",
       "      <th>1</th>\n",
       "      <td>2020-01-01</td>\n",
       "      <td>3.39</td>\n",
       "      <td>15.9</td>\n",
       "      <td>0.01</td>\n",
       "      <td>1541</td>\n",
       "      <td>2020-01-01 00:01:08.102</td>\n",
       "      <td>2020-01-01 00:26:49.178</td>\n",
       "      <td>3423</td>\n",
       "      <td>West Drive &amp; Prospect Park West</td>\n",
       "      <td>40.661063</td>\n",
       "      <td>...</td>\n",
       "      <td>40.665147</td>\n",
       "      <td>-73.976376</td>\n",
       "      <td>17105</td>\n",
       "      <td>Customer</td>\n",
       "      <td>1969</td>\n",
       "      <td>1</td>\n",
       "      <td>25.683333</td>\n",
       "      <td>00</td>\n",
       "      <td>Wednesday</td>\n",
       "      <td>January</td>\n",
       "    </tr>\n",
       "    <tr>\n",
       "      <th>2</th>\n",
       "      <td>2020-01-01</td>\n",
       "      <td>3.39</td>\n",
       "      <td>15.9</td>\n",
       "      <td>0.01</td>\n",
       "      <td>1464</td>\n",
       "      <td>2020-01-01 00:01:42.140</td>\n",
       "      <td>2020-01-01 00:26:07.011</td>\n",
       "      <td>3687</td>\n",
       "      <td>E 33 St &amp; 1 Ave</td>\n",
       "      <td>40.743227</td>\n",
       "      <td>...</td>\n",
       "      <td>40.701221</td>\n",
       "      <td>-74.012342</td>\n",
       "      <td>40177</td>\n",
       "      <td>Subscriber</td>\n",
       "      <td>1963</td>\n",
       "      <td>1</td>\n",
       "      <td>24.400000</td>\n",
       "      <td>00</td>\n",
       "      <td>Wednesday</td>\n",
       "      <td>January</td>\n",
       "    </tr>\n",
       "    <tr>\n",
       "      <th>3</th>\n",
       "      <td>2020-01-01</td>\n",
       "      <td>3.39</td>\n",
       "      <td>15.9</td>\n",
       "      <td>0.01</td>\n",
       "      <td>592</td>\n",
       "      <td>2020-01-01 00:01:45.561</td>\n",
       "      <td>2020-01-01 00:11:38.155</td>\n",
       "      <td>346</td>\n",
       "      <td>Bank St &amp; Hudson St</td>\n",
       "      <td>40.736529</td>\n",
       "      <td>...</td>\n",
       "      <td>40.751551</td>\n",
       "      <td>-73.993934</td>\n",
       "      <td>27690</td>\n",
       "      <td>Subscriber</td>\n",
       "      <td>1980</td>\n",
       "      <td>1</td>\n",
       "      <td>9.866667</td>\n",
       "      <td>00</td>\n",
       "      <td>Wednesday</td>\n",
       "      <td>January</td>\n",
       "    </tr>\n",
       "    <tr>\n",
       "      <th>4</th>\n",
       "      <td>2020-01-01</td>\n",
       "      <td>3.39</td>\n",
       "      <td>15.9</td>\n",
       "      <td>0.01</td>\n",
       "      <td>702</td>\n",
       "      <td>2020-01-01 00:01:45.788</td>\n",
       "      <td>2020-01-01 00:13:28.240</td>\n",
       "      <td>372</td>\n",
       "      <td>Franklin Ave &amp; Myrtle Ave</td>\n",
       "      <td>40.694546</td>\n",
       "      <td>...</td>\n",
       "      <td>40.683239</td>\n",
       "      <td>-73.965996</td>\n",
       "      <td>32583</td>\n",
       "      <td>Subscriber</td>\n",
       "      <td>1982</td>\n",
       "      <td>1</td>\n",
       "      <td>11.700000</td>\n",
       "      <td>00</td>\n",
       "      <td>Wednesday</td>\n",
       "      <td>January</td>\n",
       "    </tr>\n",
       "  </tbody>\n",
       "</table>\n",
       "<p>5 rows × 23 columns</p>\n",
       "</div>"
      ],
      "text/plain": [
       "         Date  Avg_Temp  Avg_Wind_Speed(mph)  Precipitation(in)  tripduration  \\\n",
       "0  2020-01-01      3.39                 15.9               0.01           789   \n",
       "1  2020-01-01      3.39                 15.9               0.01          1541   \n",
       "2  2020-01-01      3.39                 15.9               0.01          1464   \n",
       "3  2020-01-01      3.39                 15.9               0.01           592   \n",
       "4  2020-01-01      3.39                 15.9               0.01           702   \n",
       "\n",
       "                starttime                stoptime start station id  \\\n",
       "0 2020-01-01 00:00:55.390 2020-01-01 00:14:05.147              504   \n",
       "1 2020-01-01 00:01:08.102 2020-01-01 00:26:49.178             3423   \n",
       "2 2020-01-01 00:01:42.140 2020-01-01 00:26:07.011             3687   \n",
       "3 2020-01-01 00:01:45.561 2020-01-01 00:11:38.155              346   \n",
       "4 2020-01-01 00:01:45.788 2020-01-01 00:13:28.240              372   \n",
       "\n",
       "                start station name  start station latitude  ...  \\\n",
       "0                  1 Ave & E 16 St               40.732219  ...   \n",
       "1  West Drive & Prospect Park West               40.661063  ...   \n",
       "2                  E 33 St & 1 Ave               40.743227  ...   \n",
       "3              Bank St & Hudson St               40.736529  ...   \n",
       "4        Franklin Ave & Myrtle Ave               40.694546  ...   \n",
       "\n",
       "   end station latitude end station longitude bikeid    usertype  birth year  \\\n",
       "0             40.714275            -73.989900  30326  Subscriber        1992   \n",
       "1             40.665147            -73.976376  17105    Customer        1969   \n",
       "2             40.701221            -74.012342  40177  Subscriber        1963   \n",
       "3             40.751551            -73.993934  27690  Subscriber        1980   \n",
       "4             40.683239            -73.965996  32583  Subscriber        1982   \n",
       "\n",
       "  gender duration_mins  hourofday  dayofweek    month  \n",
       "0      1     13.150000         00  Wednesday  January  \n",
       "1      1     25.683333         00  Wednesday  January  \n",
       "2      1     24.400000         00  Wednesday  January  \n",
       "3      1      9.866667         00  Wednesday  January  \n",
       "4      1     11.700000         00  Wednesday  January  \n",
       "\n",
       "[5 rows x 23 columns]"
      ]
     },
     "execution_count": 22,
     "metadata": {},
     "output_type": "execute_result"
    }
   ],
   "source": [
    "merged.head()"
   ]
  },
  {
   "cell_type": "code",
   "execution_count": 23,
   "metadata": {},
   "outputs": [],
   "source": [
    "# Let's change the date from our merged dataframe into a datetime format.\n",
    "merged['Date'] = pd.to_datetime(merged['Date'])"
   ]
  },
  {
   "cell_type": "code",
   "execution_count": 24,
   "metadata": {},
   "outputs": [
    {
     "data": {
      "text/html": [
       "<div>\n",
       "<style scoped>\n",
       "    .dataframe tbody tr th:only-of-type {\n",
       "        vertical-align: middle;\n",
       "    }\n",
       "\n",
       "    .dataframe tbody tr th {\n",
       "        vertical-align: top;\n",
       "    }\n",
       "\n",
       "    .dataframe thead th {\n",
       "        text-align: right;\n",
       "    }\n",
       "</style>\n",
       "<table border=\"1\" class=\"dataframe\">\n",
       "  <thead>\n",
       "    <tr style=\"text-align: right;\">\n",
       "      <th></th>\n",
       "      <th>Date</th>\n",
       "      <th>Avg_Temp</th>\n",
       "      <th>Avg_Wind_Speed(mph)</th>\n",
       "      <th>Precipitation(in)</th>\n",
       "      <th>tripduration</th>\n",
       "      <th>starttime</th>\n",
       "      <th>stoptime</th>\n",
       "      <th>start station id</th>\n",
       "      <th>start station name</th>\n",
       "      <th>start station latitude</th>\n",
       "      <th>...</th>\n",
       "      <th>end station latitude</th>\n",
       "      <th>end station longitude</th>\n",
       "      <th>bikeid</th>\n",
       "      <th>usertype</th>\n",
       "      <th>birth year</th>\n",
       "      <th>gender</th>\n",
       "      <th>duration_mins</th>\n",
       "      <th>hourofday</th>\n",
       "      <th>dayofweek</th>\n",
       "      <th>month</th>\n",
       "    </tr>\n",
       "  </thead>\n",
       "  <tbody>\n",
       "    <tr>\n",
       "      <th>7684748</th>\n",
       "      <td>2020-06-07</td>\n",
       "      <td>27.94</td>\n",
       "      <td>8.8</td>\n",
       "      <td>0.00</td>\n",
       "      <td>831</td>\n",
       "      <td>2020-06-07 12:44:40.758</td>\n",
       "      <td>2020-06-07 12:58:32.585</td>\n",
       "      <td>3163</td>\n",
       "      <td>Central Park West &amp; W 68 St</td>\n",
       "      <td>40.773407</td>\n",
       "      <td>...</td>\n",
       "      <td>40.760301</td>\n",
       "      <td>-73.998842</td>\n",
       "      <td>41784</td>\n",
       "      <td>Subscriber</td>\n",
       "      <td>1988</td>\n",
       "      <td>1</td>\n",
       "      <td>13.850000</td>\n",
       "      <td>12</td>\n",
       "      <td>Sunday</td>\n",
       "      <td>June</td>\n",
       "    </tr>\n",
       "    <tr>\n",
       "      <th>11166058</th>\n",
       "      <td>2020-01-09</td>\n",
       "      <td>22.50</td>\n",
       "      <td>8.7</td>\n",
       "      <td>0.18</td>\n",
       "      <td>121</td>\n",
       "      <td>2020-01-09 17:48:12.153</td>\n",
       "      <td>2020-01-09 17:50:13.359</td>\n",
       "      <td>2006</td>\n",
       "      <td>Central Park S &amp; 6 Ave</td>\n",
       "      <td>40.765909</td>\n",
       "      <td>...</td>\n",
       "      <td>40.763026</td>\n",
       "      <td>-73.972095</td>\n",
       "      <td>41490</td>\n",
       "      <td>Subscriber</td>\n",
       "      <td>1959</td>\n",
       "      <td>1</td>\n",
       "      <td>2.016667</td>\n",
       "      <td>17</td>\n",
       "      <td>Thursday</td>\n",
       "      <td>January</td>\n",
       "    </tr>\n",
       "    <tr>\n",
       "      <th>15893616</th>\n",
       "      <td>2020-11-21</td>\n",
       "      <td>10.67</td>\n",
       "      <td>13.6</td>\n",
       "      <td>0.00</td>\n",
       "      <td>323</td>\n",
       "      <td>2020-11-21 16:09:37.775</td>\n",
       "      <td>2020-11-21 16:15:01.648</td>\n",
       "      <td>3292</td>\n",
       "      <td>5 Ave &amp; E 93 St</td>\n",
       "      <td>40.785785</td>\n",
       "      <td>...</td>\n",
       "      <td>40.772828</td>\n",
       "      <td>-73.966853</td>\n",
       "      <td>21313</td>\n",
       "      <td>Subscriber</td>\n",
       "      <td>1989</td>\n",
       "      <td>1</td>\n",
       "      <td>5.383333</td>\n",
       "      <td>16</td>\n",
       "      <td>Saturday</td>\n",
       "      <td>November</td>\n",
       "    </tr>\n",
       "    <tr>\n",
       "      <th>4212810</th>\n",
       "      <td>2020-04-22</td>\n",
       "      <td>6.83</td>\n",
       "      <td>18.8</td>\n",
       "      <td>0.33</td>\n",
       "      <td>1820</td>\n",
       "      <td>2020-04-22 15:44:13.297</td>\n",
       "      <td>2020-04-22 16:14:33.635</td>\n",
       "      <td>295</td>\n",
       "      <td>Pike St &amp; E Broadway</td>\n",
       "      <td>40.714067</td>\n",
       "      <td>...</td>\n",
       "      <td>40.705693</td>\n",
       "      <td>-74.016777</td>\n",
       "      <td>43040</td>\n",
       "      <td>Subscriber</td>\n",
       "      <td>1978</td>\n",
       "      <td>2</td>\n",
       "      <td>30.333333</td>\n",
       "      <td>15</td>\n",
       "      <td>Wednesday</td>\n",
       "      <td>April</td>\n",
       "    </tr>\n",
       "    <tr>\n",
       "      <th>7688935</th>\n",
       "      <td>2020-06-07</td>\n",
       "      <td>27.94</td>\n",
       "      <td>8.8</td>\n",
       "      <td>0.00</td>\n",
       "      <td>1257</td>\n",
       "      <td>2020-06-07 13:27:29.474</td>\n",
       "      <td>2020-06-07 13:48:27.137</td>\n",
       "      <td>415</td>\n",
       "      <td>Pearl St &amp; Hanover Square</td>\n",
       "      <td>40.704718</td>\n",
       "      <td>...</td>\n",
       "      <td>40.715338</td>\n",
       "      <td>-74.016584</td>\n",
       "      <td>37712</td>\n",
       "      <td>Subscriber</td>\n",
       "      <td>1990</td>\n",
       "      <td>2</td>\n",
       "      <td>20.950000</td>\n",
       "      <td>13</td>\n",
       "      <td>Sunday</td>\n",
       "      <td>June</td>\n",
       "    </tr>\n",
       "    <tr>\n",
       "      <th>8445644</th>\n",
       "      <td>2020-07-18</td>\n",
       "      <td>28.17</td>\n",
       "      <td>6.1</td>\n",
       "      <td>0.02</td>\n",
       "      <td>299</td>\n",
       "      <td>2020-07-18 02:15:08.385</td>\n",
       "      <td>2020-07-18 02:20:07.670</td>\n",
       "      <td>265</td>\n",
       "      <td>Stanton St &amp; Chrystie St</td>\n",
       "      <td>40.722293</td>\n",
       "      <td>...</td>\n",
       "      <td>40.724947</td>\n",
       "      <td>-74.001659</td>\n",
       "      <td>15279</td>\n",
       "      <td>Customer</td>\n",
       "      <td>1996</td>\n",
       "      <td>1</td>\n",
       "      <td>4.983333</td>\n",
       "      <td>02</td>\n",
       "      <td>Saturday</td>\n",
       "      <td>July</td>\n",
       "    </tr>\n",
       "    <tr>\n",
       "      <th>2723488</th>\n",
       "      <td>2020-07-03</td>\n",
       "      <td>5.00</td>\n",
       "      <td>14.7</td>\n",
       "      <td>0.14</td>\n",
       "      <td>1031</td>\n",
       "      <td>2020-07-03 12:34:48.866</td>\n",
       "      <td>2020-07-03 12:51:59.933</td>\n",
       "      <td>480</td>\n",
       "      <td>W 53 St &amp; 10 Ave</td>\n",
       "      <td>40.766697</td>\n",
       "      <td>...</td>\n",
       "      <td>40.761573</td>\n",
       "      <td>-73.972628</td>\n",
       "      <td>29050</td>\n",
       "      <td>Customer</td>\n",
       "      <td>1989</td>\n",
       "      <td>2</td>\n",
       "      <td>17.183333</td>\n",
       "      <td>12</td>\n",
       "      <td>Friday</td>\n",
       "      <td>July</td>\n",
       "    </tr>\n",
       "    <tr>\n",
       "      <th>9109667</th>\n",
       "      <td>2020-07-29</td>\n",
       "      <td>29.17</td>\n",
       "      <td>8.3</td>\n",
       "      <td>0.00</td>\n",
       "      <td>326</td>\n",
       "      <td>2020-07-29 10:18:54.545</td>\n",
       "      <td>2020-07-29 10:24:20.667</td>\n",
       "      <td>3737</td>\n",
       "      <td>Stanton St &amp; Norfolk St</td>\n",
       "      <td>40.720747</td>\n",
       "      <td>...</td>\n",
       "      <td>40.718502</td>\n",
       "      <td>-73.983299</td>\n",
       "      <td>39720</td>\n",
       "      <td>Subscriber</td>\n",
       "      <td>1972</td>\n",
       "      <td>2</td>\n",
       "      <td>5.433333</td>\n",
       "      <td>10</td>\n",
       "      <td>Wednesday</td>\n",
       "      <td>July</td>\n",
       "    </tr>\n",
       "    <tr>\n",
       "      <th>15212357</th>\n",
       "      <td>2020-09-11</td>\n",
       "      <td>19.17</td>\n",
       "      <td>8.5</td>\n",
       "      <td>0.00</td>\n",
       "      <td>481</td>\n",
       "      <td>2020-09-11 10:39:08.629</td>\n",
       "      <td>2020-09-11 10:47:10.328</td>\n",
       "      <td>151</td>\n",
       "      <td>Cleveland Pl &amp; Spring St</td>\n",
       "      <td>40.722104</td>\n",
       "      <td>...</td>\n",
       "      <td>40.723077</td>\n",
       "      <td>-73.985836</td>\n",
       "      <td>16165</td>\n",
       "      <td>Subscriber</td>\n",
       "      <td>1978</td>\n",
       "      <td>2</td>\n",
       "      <td>8.016667</td>\n",
       "      <td>10</td>\n",
       "      <td>Friday</td>\n",
       "      <td>September</td>\n",
       "    </tr>\n",
       "    <tr>\n",
       "      <th>4466796</th>\n",
       "      <td>2020-02-05</td>\n",
       "      <td>17.56</td>\n",
       "      <td>11.8</td>\n",
       "      <td>0.14</td>\n",
       "      <td>559</td>\n",
       "      <td>2020-02-05 20:47:36.086</td>\n",
       "      <td>2020-02-05 20:56:55.993</td>\n",
       "      <td>116</td>\n",
       "      <td>W 17 St &amp; 8 Ave</td>\n",
       "      <td>40.741776</td>\n",
       "      <td>...</td>\n",
       "      <td>40.742869</td>\n",
       "      <td>-73.989186</td>\n",
       "      <td>17259</td>\n",
       "      <td>Subscriber</td>\n",
       "      <td>1972</td>\n",
       "      <td>1</td>\n",
       "      <td>9.316667</td>\n",
       "      <td>20</td>\n",
       "      <td>Wednesday</td>\n",
       "      <td>February</td>\n",
       "    </tr>\n",
       "  </tbody>\n",
       "</table>\n",
       "<p>10 rows × 23 columns</p>\n",
       "</div>"
      ],
      "text/plain": [
       "               Date  Avg_Temp  Avg_Wind_Speed(mph)  Precipitation(in)  \\\n",
       "7684748  2020-06-07     27.94                  8.8               0.00   \n",
       "11166058 2020-01-09     22.50                  8.7               0.18   \n",
       "15893616 2020-11-21     10.67                 13.6               0.00   \n",
       "4212810  2020-04-22      6.83                 18.8               0.33   \n",
       "7688935  2020-06-07     27.94                  8.8               0.00   \n",
       "8445644  2020-07-18     28.17                  6.1               0.02   \n",
       "2723488  2020-07-03      5.00                 14.7               0.14   \n",
       "9109667  2020-07-29     29.17                  8.3               0.00   \n",
       "15212357 2020-09-11     19.17                  8.5               0.00   \n",
       "4466796  2020-02-05     17.56                 11.8               0.14   \n",
       "\n",
       "          tripduration               starttime                stoptime  \\\n",
       "7684748            831 2020-06-07 12:44:40.758 2020-06-07 12:58:32.585   \n",
       "11166058           121 2020-01-09 17:48:12.153 2020-01-09 17:50:13.359   \n",
       "15893616           323 2020-11-21 16:09:37.775 2020-11-21 16:15:01.648   \n",
       "4212810           1820 2020-04-22 15:44:13.297 2020-04-22 16:14:33.635   \n",
       "7688935           1257 2020-06-07 13:27:29.474 2020-06-07 13:48:27.137   \n",
       "8445644            299 2020-07-18 02:15:08.385 2020-07-18 02:20:07.670   \n",
       "2723488           1031 2020-07-03 12:34:48.866 2020-07-03 12:51:59.933   \n",
       "9109667            326 2020-07-29 10:18:54.545 2020-07-29 10:24:20.667   \n",
       "15212357           481 2020-09-11 10:39:08.629 2020-09-11 10:47:10.328   \n",
       "4466796            559 2020-02-05 20:47:36.086 2020-02-05 20:56:55.993   \n",
       "\n",
       "         start station id           start station name  \\\n",
       "7684748              3163  Central Park West & W 68 St   \n",
       "11166058             2006       Central Park S & 6 Ave   \n",
       "15893616             3292              5 Ave & E 93 St   \n",
       "4212810               295         Pike St & E Broadway   \n",
       "7688935               415    Pearl St & Hanover Square   \n",
       "8445644               265     Stanton St & Chrystie St   \n",
       "2723488               480             W 53 St & 10 Ave   \n",
       "9109667              3737      Stanton St & Norfolk St   \n",
       "15212357              151     Cleveland Pl & Spring St   \n",
       "4466796               116              W 17 St & 8 Ave   \n",
       "\n",
       "          start station latitude  ...  end station latitude  \\\n",
       "7684748                40.773407  ...             40.760301   \n",
       "11166058               40.765909  ...             40.763026   \n",
       "15893616               40.785785  ...             40.772828   \n",
       "4212810                40.714067  ...             40.705693   \n",
       "7688935                40.704718  ...             40.715338   \n",
       "8445644                40.722293  ...             40.724947   \n",
       "2723488                40.766697  ...             40.761573   \n",
       "9109667                40.720747  ...             40.718502   \n",
       "15212357               40.722104  ...             40.723077   \n",
       "4466796                40.741776  ...             40.742869   \n",
       "\n",
       "         end station longitude bikeid    usertype  birth year gender  \\\n",
       "7684748             -73.998842  41784  Subscriber        1988      1   \n",
       "11166058            -73.972095  41490  Subscriber        1959      1   \n",
       "15893616            -73.966853  21313  Subscriber        1989      1   \n",
       "4212810             -74.016777  43040  Subscriber        1978      2   \n",
       "7688935             -74.016584  37712  Subscriber        1990      2   \n",
       "8445644             -74.001659  15279    Customer        1996      1   \n",
       "2723488             -73.972628  29050    Customer        1989      2   \n",
       "9109667             -73.983299  39720  Subscriber        1972      2   \n",
       "15212357            -73.985836  16165  Subscriber        1978      2   \n",
       "4466796             -73.989186  17259  Subscriber        1972      1   \n",
       "\n",
       "         duration_mins  hourofday  dayofweek      month  \n",
       "7684748      13.850000         12     Sunday       June  \n",
       "11166058      2.016667         17   Thursday    January  \n",
       "15893616      5.383333         16   Saturday   November  \n",
       "4212810      30.333333         15  Wednesday      April  \n",
       "7688935      20.950000         13     Sunday       June  \n",
       "8445644       4.983333         02   Saturday       July  \n",
       "2723488      17.183333         12     Friday       July  \n",
       "9109667       5.433333         10  Wednesday       July  \n",
       "15212357      8.016667         10     Friday  September  \n",
       "4466796       9.316667         20  Wednesday   February  \n",
       "\n",
       "[10 rows x 23 columns]"
      ]
     },
     "execution_count": 24,
     "metadata": {},
     "output_type": "execute_result"
    }
   ],
   "source": [
    "# Let's take another look, using .sample().\n",
    "merged.sample(10)"
   ]
  },
  {
   "cell_type": "code",
   "execution_count": 25,
   "metadata": {},
   "outputs": [
    {
     "name": "stdout",
     "output_type": "stream",
     "text": [
      "<class 'pandas.core.frame.DataFrame'>\n",
      "Int64Index: 17326549 entries, 0 to 17326548\n",
      "Data columns (total 23 columns):\n",
      " #   Column                   Dtype         \n",
      "---  ------                   -----         \n",
      " 0   Date                     datetime64[ns]\n",
      " 1   Avg_Temp                 float64       \n",
      " 2   Avg_Wind_Speed(mph)      float64       \n",
      " 3   Precipitation(in)        float64       \n",
      " 4   tripduration             int64         \n",
      " 5   starttime                datetime64[ns]\n",
      " 6   stoptime                 datetime64[ns]\n",
      " 7   start station id         object        \n",
      " 8   start station name       object        \n",
      " 9   start station latitude   float64       \n",
      " 10  start station longitude  float64       \n",
      " 11  end station id           object        \n",
      " 12  end station name         object        \n",
      " 13  end station latitude     float64       \n",
      " 14  end station longitude    float64       \n",
      " 15  bikeid                   object        \n",
      " 16  usertype                 category      \n",
      " 17  birth year               int64         \n",
      " 18  gender                   category      \n",
      " 19  duration_mins            float64       \n",
      " 20  hourofday                object        \n",
      " 21  dayofweek                object        \n",
      " 22  month                    object        \n",
      "dtypes: category(2), datetime64[ns](3), float64(8), int64(2), object(8)\n",
      "memory usage: 2.9+ GB\n"
     ]
    }
   ],
   "source": [
    "merged.info()"
   ]
  },
  {
   "cell_type": "code",
   "execution_count": 26,
   "metadata": {},
   "outputs": [],
   "source": [
    "# Let's add a new column calculating the riders' age from 'birth year'.\n",
    "merged['age'] = 2020 - merged['birth year']"
   ]
  },
  {
   "cell_type": "code",
   "execution_count": 27,
   "metadata": {},
   "outputs": [
    {
     "data": {
      "image/png": "[encoded data removed]",
      "text/plain": [
       "<Figure size 648x432 with 1 Axes>"
      ]
     },
     "metadata": {
      "needs_background": "light"
     },
     "output_type": "display_data"
    }
   ],
   "source": [
    "# Let's plot the distribution of the age column, visually examining our results for any outliers.\n",
    "\n",
    "plt.figure(figsize=[9, 6])\n",
    "bins = np.arange(0, merged['age'].max()+5, 5)\n",
    "plt.hist(merged['age'].dropna(), bins=bins);"
   ]
  },
  {
   "cell_type": "code",
   "execution_count": 28,
   "metadata": {},
   "outputs": [],
   "source": [
    "# Let's filter out the outlier ages, in this case I chose anyone above 75 y/o, as seen in the distribution above.\n",
    "# Let's cast 'birth year' and 'age' to int type instead of float type.\n",
    "merged = merged.query('age <= 75')\n",
    "merged['birth year'] = merged['birth year'].astype('int')\n",
    "merged['age'] = merged['age'].astype('int')"
   ]
  },
  {
   "cell_type": "code",
   "execution_count": 29,
   "metadata": {},
   "outputs": [
    {
     "data": {
      "text/plain": [
       "Date                            365\n",
       "Avg_Temp                        275\n",
       "Avg_Wind_Speed(mph)             134\n",
       "Precipitation(in)                61\n",
       "tripduration                  33990\n",
       "starttime                  17250428\n",
       "stoptime                   17250159\n",
       "start station id               1210\n",
       "start station name             1222\n",
       "start station latitude         1257\n",
       "start station longitude        1244\n",
       "end station id                 1245\n",
       "end station name               1257\n",
       "end station latitude           1293\n",
       "end station longitude          1279\n",
       "bikeid                        24974\n",
       "usertype                          2\n",
       "birth year                       60\n",
       "gender                            2\n",
       "duration_mins                 33990\n",
       "hourofday                        24\n",
       "dayofweek                         7\n",
       "month                            12\n",
       "age                              60\n",
       "dtype: int64"
      ]
     },
     "execution_count": 29,
     "metadata": {},
     "output_type": "execute_result"
    }
   ],
   "source": [
    "# Let's check our unique values.\n",
    "merged.nunique()"
   ]
  },
  {
   "cell_type": "code",
   "execution_count": 30,
   "metadata": {},
   "outputs": [],
   "source": [
    "# Importing random, setting random seed, so results can be replicated. The reason I'm doing this sample is so my results \n",
    "# are limited to 1 million rows, instead of the full dataset. I believe that 1 million rows will produce an adequate \n",
    "# representation for the purpose of this project. :)\n",
    "np.random.seed(42)\n",
    "merged_final = merged.sample(1000000)"
   ]
  },
  {
   "cell_type": "code",
   "execution_count": 31,
   "metadata": {},
   "outputs": [
    {
     "data": {
      "text/html": [
       "<div>\n",
       "<style scoped>\n",
       "    .dataframe tbody tr th:only-of-type {\n",
       "        vertical-align: middle;\n",
       "    }\n",
       "\n",
       "    .dataframe tbody tr th {\n",
       "        vertical-align: top;\n",
       "    }\n",
       "\n",
       "    .dataframe thead th {\n",
       "        text-align: right;\n",
       "    }\n",
       "</style>\n",
       "<table border=\"1\" class=\"dataframe\">\n",
       "  <thead>\n",
       "    <tr style=\"text-align: right;\">\n",
       "      <th></th>\n",
       "      <th>Date</th>\n",
       "      <th>Avg_Temp</th>\n",
       "      <th>Avg_Wind_Speed(mph)</th>\n",
       "      <th>Precipitation(in)</th>\n",
       "      <th>tripduration</th>\n",
       "      <th>starttime</th>\n",
       "      <th>stoptime</th>\n",
       "      <th>start station id</th>\n",
       "      <th>start station name</th>\n",
       "      <th>start station latitude</th>\n",
       "      <th>...</th>\n",
       "      <th>end station longitude</th>\n",
       "      <th>bikeid</th>\n",
       "      <th>usertype</th>\n",
       "      <th>birth year</th>\n",
       "      <th>gender</th>\n",
       "      <th>duration_mins</th>\n",
       "      <th>hourofday</th>\n",
       "      <th>dayofweek</th>\n",
       "      <th>month</th>\n",
       "      <th>age</th>\n",
       "    </tr>\n",
       "  </thead>\n",
       "  <tbody>\n",
       "    <tr>\n",
       "      <th>16286744</th>\n",
       "      <td>2020-01-12</td>\n",
       "      <td>5.44</td>\n",
       "      <td>16.4</td>\n",
       "      <td>0.00</td>\n",
       "      <td>598</td>\n",
       "      <td>2020-01-12 10:27:51.398</td>\n",
       "      <td>2020-01-12 10:37:49.402</td>\n",
       "      <td>3147</td>\n",
       "      <td>E 85 St &amp; 3 Ave</td>\n",
       "      <td>40.778012</td>\n",
       "      <td>...</td>\n",
       "      <td>-73.960940</td>\n",
       "      <td>41059</td>\n",
       "      <td>Subscriber</td>\n",
       "      <td>1964</td>\n",
       "      <td>1</td>\n",
       "      <td>9.966667</td>\n",
       "      <td>10</td>\n",
       "      <td>Sunday</td>\n",
       "      <td>January</td>\n",
       "      <td>56</td>\n",
       "    </tr>\n",
       "    <tr>\n",
       "      <th>16746485</th>\n",
       "      <td>2020-09-12</td>\n",
       "      <td>7.28</td>\n",
       "      <td>10.5</td>\n",
       "      <td>0.02</td>\n",
       "      <td>736</td>\n",
       "      <td>2020-09-12 18:55:31.546</td>\n",
       "      <td>2020-09-12 19:07:48.507</td>\n",
       "      <td>4073</td>\n",
       "      <td>W 51 St &amp; Rockefeller Plaza</td>\n",
       "      <td>40.759700</td>\n",
       "      <td>...</td>\n",
       "      <td>-73.994156</td>\n",
       "      <td>15688</td>\n",
       "      <td>Subscriber</td>\n",
       "      <td>1951</td>\n",
       "      <td>1</td>\n",
       "      <td>12.266667</td>\n",
       "      <td>18</td>\n",
       "      <td>Saturday</td>\n",
       "      <td>September</td>\n",
       "      <td>69</td>\n",
       "    </tr>\n",
       "    <tr>\n",
       "      <th>3148492</th>\n",
       "      <td>2020-03-15</td>\n",
       "      <td>8.06</td>\n",
       "      <td>9.4</td>\n",
       "      <td>0.00</td>\n",
       "      <td>565</td>\n",
       "      <td>2020-03-15 10:53:20.261</td>\n",
       "      <td>2020-03-15 11:02:46.098</td>\n",
       "      <td>161</td>\n",
       "      <td>LaGuardia Pl &amp; W 3 St</td>\n",
       "      <td>40.729170</td>\n",
       "      <td>...</td>\n",
       "      <td>-73.977688</td>\n",
       "      <td>41128</td>\n",
       "      <td>Subscriber</td>\n",
       "      <td>1988</td>\n",
       "      <td>1</td>\n",
       "      <td>9.416667</td>\n",
       "      <td>10</td>\n",
       "      <td>Sunday</td>\n",
       "      <td>March</td>\n",
       "      <td>32</td>\n",
       "    </tr>\n",
       "    <tr>\n",
       "      <th>13442322</th>\n",
       "      <td>2020-09-10</td>\n",
       "      <td>17.00</td>\n",
       "      <td>6.7</td>\n",
       "      <td>0.00</td>\n",
       "      <td>1241</td>\n",
       "      <td>2020-09-10 14:01:24.443</td>\n",
       "      <td>2020-09-10 14:22:05.471</td>\n",
       "      <td>83</td>\n",
       "      <td>Atlantic Ave &amp; Fort Greene Pl</td>\n",
       "      <td>40.683826</td>\n",
       "      <td>...</td>\n",
       "      <td>-73.979453</td>\n",
       "      <td>46614</td>\n",
       "      <td>Subscriber</td>\n",
       "      <td>1987</td>\n",
       "      <td>2</td>\n",
       "      <td>20.683333</td>\n",
       "      <td>14</td>\n",
       "      <td>Thursday</td>\n",
       "      <td>September</td>\n",
       "      <td>33</td>\n",
       "    </tr>\n",
       "    <tr>\n",
       "      <th>1525838</th>\n",
       "      <td>2020-07-02</td>\n",
       "      <td>4.39</td>\n",
       "      <td>17.1</td>\n",
       "      <td>0.19</td>\n",
       "      <td>218</td>\n",
       "      <td>2020-07-02 16:05:13.246</td>\n",
       "      <td>2020-07-02 16:08:52.018</td>\n",
       "      <td>3609</td>\n",
       "      <td>Vernon Blvd &amp; 31 Ave</td>\n",
       "      <td>40.769247</td>\n",
       "      <td>...</td>\n",
       "      <td>-73.930819</td>\n",
       "      <td>40182</td>\n",
       "      <td>Subscriber</td>\n",
       "      <td>1984</td>\n",
       "      <td>1</td>\n",
       "      <td>3.633333</td>\n",
       "      <td>16</td>\n",
       "      <td>Thursday</td>\n",
       "      <td>July</td>\n",
       "      <td>36</td>\n",
       "    </tr>\n",
       "  </tbody>\n",
       "</table>\n",
       "<p>5 rows × 24 columns</p>\n",
       "</div>"
      ],
      "text/plain": [
       "               Date  Avg_Temp  Avg_Wind_Speed(mph)  Precipitation(in)  \\\n",
       "16286744 2020-01-12      5.44                 16.4               0.00   \n",
       "16746485 2020-09-12      7.28                 10.5               0.02   \n",
       "3148492  2020-03-15      8.06                  9.4               0.00   \n",
       "13442322 2020-09-10     17.00                  6.7               0.00   \n",
       "1525838  2020-07-02      4.39                 17.1               0.19   \n",
       "\n",
       "          tripduration               starttime                stoptime  \\\n",
       "16286744           598 2020-01-12 10:27:51.398 2020-01-12 10:37:49.402   \n",
       "16746485           736 2020-09-12 18:55:31.546 2020-09-12 19:07:48.507   \n",
       "3148492            565 2020-03-15 10:53:20.261 2020-03-15 11:02:46.098   \n",
       "13442322          1241 2020-09-10 14:01:24.443 2020-09-10 14:22:05.471   \n",
       "1525838            218 2020-07-02 16:05:13.246 2020-07-02 16:08:52.018   \n",
       "\n",
       "         start station id             start station name  \\\n",
       "16286744             3147                E 85 St & 3 Ave   \n",
       "16746485             4073    W 51 St & Rockefeller Plaza   \n",
       "3148492               161          LaGuardia Pl & W 3 St   \n",
       "13442322               83  Atlantic Ave & Fort Greene Pl   \n",
       "1525838              3609           Vernon Blvd & 31 Ave   \n",
       "\n",
       "          start station latitude  ...  end station longitude bikeid  \\\n",
       "16286744               40.778012  ...             -73.960940  41059   \n",
       "16746485               40.759700  ...             -73.994156  15688   \n",
       "3148492                40.729170  ...             -73.977688  41128   \n",
       "13442322               40.683826  ...             -73.979453  46614   \n",
       "1525838                40.769247  ...             -73.930819  40182   \n",
       "\n",
       "            usertype  birth year  gender duration_mins hourofday  dayofweek  \\\n",
       "16286744  Subscriber        1964       1      9.966667        10     Sunday   \n",
       "16746485  Subscriber        1951       1     12.266667        18   Saturday   \n",
       "3148492   Subscriber        1988       1      9.416667        10     Sunday   \n",
       "13442322  Subscriber        1987       2     20.683333        14   Thursday   \n",
       "1525838   Subscriber        1984       1      3.633333        16   Thursday   \n",
       "\n",
       "              month  age  \n",
       "16286744    January   56  \n",
       "16746485  September   69  \n",
       "3148492       March   32  \n",
       "13442322  September   33  \n",
       "1525838        July   36  \n",
       "\n",
       "[5 rows x 24 columns]"
      ]
     },
     "execution_count": 31,
     "metadata": {},
     "output_type": "execute_result"
    }
   ],
   "source": [
    "merged_final.head()"
   ]
  },
  {
   "cell_type": "code",
   "execution_count": 32,
   "metadata": {},
   "outputs": [
    {
     "data": {
      "text/plain": [
       "(1000000, 24)"
      ]
     },
     "execution_count": 32,
     "metadata": {},
     "output_type": "execute_result"
    }
   ],
   "source": [
    "# Let's take a final look at our data shape.\n",
    "merged_final.shape"
   ]
  },
  {
   "cell_type": "code",
   "execution_count": 29,
   "metadata": {},
   "outputs": [],
   "source": [
    "# We can save this file, so it's easier to access again, and not have to run through the steps again.\n",
    "merged_final.to_csv('merged_final.csv', index=False)"
   ]
  },
  {
   "cell_type": "markdown",
   "metadata": {},
   "source": [
    "## What is the structure of our dataset?\n",
    "\n",
    "We've collected data for bike trips, and also weather for New York City for 2020, We've merged this, performed some wrangling and then retrieved a sample of 1,000,000 rows. I personally chose to take a sample because my dataset was so huge. \n",
    "\n",
    "The dataset could be broken down into the following groups of data:\n",
    "\n",
    "- Trip duration (tripduration, starttime, stoptime)\n",
    "- Bike Station Info (start station id, start station name, start station latitude, start station longitude, end station id, end station name, end station latitude, end station longitude)\n",
    "- User info (bikeid, usertype, birth year, gender)\n",
    "- Weather information (Avg_Temp, Avg_Wind_Speed(mph), Precipitation(in))\n",
    "- Derived variables to assist our exploration (duration_mins, hourofday, dayofweek, month, age)\n",
    "\n",
    "\n",
    "## What can we analyze? Which aspects could give us further insight into our data?\n",
    "\n",
    "We were given the following example topics:\n",
    "- When are most trips taken in terms of time of day, day of the week, or month of the year?\n",
    "- How long does the average trip take?\n",
    "- Does the above depend on if a user is a subscriber or customer?\n",
    "\n",
    "\n",
    "Personally, I'm most interested in exploring the customer group types, individually, and see the behaviour adding the avg_temp as a variable, to see if there are any trends within certain weathers.\n",
    "\n",
    "## What aspects of the dataset will help support our investigation into our features of interest?\n",
    "We'll be using a lot of the variables. The date column, the duration columns, avg_temp column to name a few. All these will provide us useful info to analyze. We can group our data differently. Gender, usertype are a few examples. We can gain valuable insight when splitting this data and analyzing from different paradigms. \n",
    "\n",
    "# Univariate Exploration"
   ]
  },
  {
   "cell_type": "code",
   "execution_count": 33,
   "metadata": {},
   "outputs": [
    {
     "name": "stdout",
     "output_type": "stream",
     "text": [
      "<class 'pandas.core.frame.DataFrame'>\n",
      "Int64Index: 1000000 entries, 16286744 to 3299892\n",
      "Data columns (total 24 columns):\n",
      " #   Column                   Non-Null Count    Dtype         \n",
      "---  ------                   --------------    -----         \n",
      " 0   Date                     1000000 non-null  datetime64[ns]\n",
      " 1   Avg_Temp                 1000000 non-null  float64       \n",
      " 2   Avg_Wind_Speed(mph)      1000000 non-null  float64       \n",
      " 3   Precipitation(in)        1000000 non-null  float64       \n",
      " 4   tripduration             1000000 non-null  int64         \n",
      " 5   starttime                1000000 non-null  datetime64[ns]\n",
      " 6   stoptime                 1000000 non-null  datetime64[ns]\n",
      " 7   start station id         1000000 non-null  object        \n",
      " 8   start station name       1000000 non-null  object        \n",
      " 9   start station latitude   1000000 non-null  float64       \n",
      " 10  start station longitude  1000000 non-null  float64       \n",
      " 11  end station id           1000000 non-null  object        \n",
      " 12  end station name         1000000 non-null  object        \n",
      " 13  end station latitude     1000000 non-null  float64       \n",
      " 14  end station longitude    1000000 non-null  float64       \n",
      " 15  bikeid                   1000000 non-null  object        \n",
      " 16  usertype                 1000000 non-null  category      \n",
      " 17  birth year               1000000 non-null  int32         \n",
      " 18  gender                   1000000 non-null  category      \n",
      " 19  duration_mins            1000000 non-null  float64       \n",
      " 20  hourofday                1000000 non-null  object        \n",
      " 21  dayofweek                1000000 non-null  object        \n",
      " 22  month                    1000000 non-null  object        \n",
      " 23  age                      1000000 non-null  int32         \n",
      "dtypes: category(2), datetime64[ns](3), float64(8), int32(2), int64(1), object(8)\n",
      "memory usage: 169.8+ MB\n"
     ]
    }
   ],
   "source": [
    "merged_final.info()"
   ]
  },
  {
   "cell_type": "code",
   "execution_count": 34,
   "metadata": {},
   "outputs": [
    {
     "data": {
      "image/png": "[encoded data removed]",
      "text/plain": [
       "<Figure size 576x432 with 1 Axes>"
      ]
     },
     "metadata": {},
     "output_type": "display_data"
    }
   ],
   "source": [
    "# Let's set our size, base_color and style.\n",
    "plt.rcParams['figure.figsize'] = 8, 6\n",
    "base_color = sb.color_palette('colorblind')[0]\n",
    "sb.set_style('darkgrid')\n",
    "# Converting hours into cat type so the graph is ordered.\n",
    "hourday = ['00', '01', '02', '03', '04', '05', '06', '07', '08', '09', '10', '11', '12', '13', '14', '15', '16', '17', '18', '19', '20', '21', '22', '23']\n",
    "hourdaycat = pd.api.types.CategoricalDtype(ordered=True, categories=hourday)\n",
    "merged_final['hourofday'] = merged_final['hourofday'].astype(hourdaycat)\n",
    "\n",
    "sb.countplot(data=merged_final, x='hourofday', color=base_color);\n",
    "plt.xlabel('Trip Start Hour of the Day');\n",
    "plt.ylabel('Count');"
   ]
  },
  {
   "cell_type": "code",
   "execution_count": 35,
   "metadata": {},
   "outputs": [
    {
     "data": {
      "image/png": "[encoded data removed]",
      "text/plain": [
       "<Figure size 576x432 with 1 Axes>"
      ]
     },
     "metadata": {},
     "output_type": "display_data"
    }
   ],
   "source": [
    "# Casting 'dayofweek' to category type.\n",
    "\n",
    "weekday = ['Monday', 'Tuesday', 'Wednesday', 'Thursday', 'Friday', 'Saturday', 'Sunday']\n",
    "weekdaycat = pd.api.types.CategoricalDtype(ordered=True, categories=weekday)\n",
    "merged_final['dayofweek'] = merged_final['dayofweek'].astype(weekdaycat)\n",
    "\n",
    "sb.countplot(data=merged_final, x='dayofweek', color=base_color);\n",
    "plt.xlabel('Trip per Day');\n",
    "plt.ylabel('Count');"
   ]
  },
  {
   "cell_type": "code",
   "execution_count": 36,
   "metadata": {},
   "outputs": [
    {
     "data": {
      "image/png": "[encoded data removed]",
      "text/plain": [
       "<Figure size 576x432 with 1 Axes>"
      ]
     },
     "metadata": {},
     "output_type": "display_data"
    }
   ],
   "source": [
    "# Casting 'month' to category type.\n",
    "\n",
    "month = ['January', 'February', 'March', 'April', 'May', 'June', 'July', 'August', 'September', 'October', 'November', 'December']\n",
    "monthcat = pd.api.types.CategoricalDtype(ordered=True, categories=month)\n",
    "merged_final['month'] = merged_final['month'].astype(monthcat)\n",
    "\n",
    "sb.countplot(data=merged_final, x='month', color=base_color);\n",
    "plt.xticks(rotation=45);\n",
    "plt.xlabel('Trip Start Month');\n",
    "plt.ylabel('Count');"
   ]
  },
  {
   "cell_type": "markdown",
   "metadata": {},
   "source": [
    "Somewhat weird to see such a drop in April right? The data is correct and this is a reflection of Covid-19's impact on NYC's bike service."
   ]
  },
  {
   "cell_type": "code",
   "execution_count": 37,
   "metadata": {
    "scrolled": false
   },
   "outputs": [
    {
     "data": {
      "image/png": "[encoded data removed]",
      "text/plain": [
       "<Figure size 864x432 with 1 Axes>"
      ]
     },
     "metadata": {},
     "output_type": "display_data"
    }
   ],
   "source": [
    "# Now let's see what avg_temperatures saw the highest trip counts. Remember that some users use this to go to work and \n",
    "# come back, they are also included in this but the temperature would probably not have a mayor influence on their decision\n",
    "# to take a bike or not. Surely if it was raining heavily one day, they might have opted for the bus, but a 3-5 degreese\n",
    "# difference is not likely to have changed their mind.\n",
    "plt.figure(figsize=[12, 6])\n",
    "bins = np.arange(merged_final['Avg_Temp'].min(), merged_final['Avg_Temp'].max()+5, 5)\n",
    "plt.hist(merged_final['Avg_Temp'].dropna(), bins=bins);"
   ]
  },
  {
   "cell_type": "code",
   "execution_count": 38,
   "metadata": {
    "scrolled": true
   },
   "outputs": [
    {
     "data": {
      "text/html": [
       "<div>\n",
       "<style scoped>\n",
       "    .dataframe tbody tr th:only-of-type {\n",
       "        vertical-align: middle;\n",
       "    }\n",
       "\n",
       "    .dataframe tbody tr th {\n",
       "        vertical-align: top;\n",
       "    }\n",
       "\n",
       "    .dataframe thead th {\n",
       "        text-align: right;\n",
       "    }\n",
       "</style>\n",
       "<table border=\"1\" class=\"dataframe\">\n",
       "  <thead>\n",
       "    <tr style=\"text-align: right;\">\n",
       "      <th></th>\n",
       "      <th>Avg_Temp</th>\n",
       "      <th>Avg_Wind_Speed(mph)</th>\n",
       "      <th>Precipitation(in)</th>\n",
       "      <th>tripduration</th>\n",
       "      <th>start station latitude</th>\n",
       "      <th>start station longitude</th>\n",
       "      <th>end station latitude</th>\n",
       "      <th>end station longitude</th>\n",
       "      <th>birth year</th>\n",
       "      <th>duration_mins</th>\n",
       "      <th>age</th>\n",
       "    </tr>\n",
       "  </thead>\n",
       "  <tbody>\n",
       "    <tr>\n",
       "      <th>count</th>\n",
       "      <td>1000000.000000</td>\n",
       "      <td>1000000.000000</td>\n",
       "      <td>1000000.000000</td>\n",
       "      <td>1.000000e+06</td>\n",
       "      <td>1000000.000000</td>\n",
       "      <td>1000000.000000</td>\n",
       "      <td>1000000.000000</td>\n",
       "      <td>1000000.000000</td>\n",
       "      <td>1000000.000000</td>\n",
       "      <td>1000000.000000</td>\n",
       "      <td>1000000.000000</td>\n",
       "    </tr>\n",
       "    <tr>\n",
       "      <th>mean</th>\n",
       "      <td>16.286370</td>\n",
       "      <td>10.318260</td>\n",
       "      <td>0.104188</td>\n",
       "      <td>1.167016e+03</td>\n",
       "      <td>40.740659</td>\n",
       "      <td>-73.977477</td>\n",
       "      <td>40.740331</td>\n",
       "      <td>-73.977676</td>\n",
       "      <td>1982.712242</td>\n",
       "      <td>19.450263</td>\n",
       "      <td>37.287758</td>\n",
       "    </tr>\n",
       "    <tr>\n",
       "      <th>std</th>\n",
       "      <td>8.788715</td>\n",
       "      <td>3.687098</td>\n",
       "      <td>0.298516</td>\n",
       "      <td>1.104446e+04</td>\n",
       "      <td>0.034515</td>\n",
       "      <td>0.022671</td>\n",
       "      <td>0.034421</td>\n",
       "      <td>0.022704</td>\n",
       "      <td>11.933777</td>\n",
       "      <td>184.074319</td>\n",
       "      <td>11.933777</td>\n",
       "    </tr>\n",
       "    <tr>\n",
       "      <th>min</th>\n",
       "      <td>-4.830000</td>\n",
       "      <td>3.300000</td>\n",
       "      <td>0.000000</td>\n",
       "      <td>6.100000e+01</td>\n",
       "      <td>40.655400</td>\n",
       "      <td>-74.025353</td>\n",
       "      <td>40.655400</td>\n",
       "      <td>-74.066611</td>\n",
       "      <td>1945.000000</td>\n",
       "      <td>1.016667</td>\n",
       "      <td>16.000000</td>\n",
       "    </tr>\n",
       "    <tr>\n",
       "      <th>25%</th>\n",
       "      <td>8.830000</td>\n",
       "      <td>7.700000</td>\n",
       "      <td>0.000000</td>\n",
       "      <td>4.070000e+02</td>\n",
       "      <td>40.717548</td>\n",
       "      <td>-73.993929</td>\n",
       "      <td>40.717452</td>\n",
       "      <td>-73.993934</td>\n",
       "      <td>1975.000000</td>\n",
       "      <td>6.783333</td>\n",
       "      <td>28.000000</td>\n",
       "    </tr>\n",
       "    <tr>\n",
       "      <th>50%</th>\n",
       "      <td>16.940000</td>\n",
       "      <td>9.600000</td>\n",
       "      <td>0.000000</td>\n",
       "      <td>7.430000e+02</td>\n",
       "      <td>40.739713</td>\n",
       "      <td>-73.981854</td>\n",
       "      <td>40.739445</td>\n",
       "      <td>-73.981918</td>\n",
       "      <td>1986.000000</td>\n",
       "      <td>12.383333</td>\n",
       "      <td>34.000000</td>\n",
       "    </tr>\n",
       "    <tr>\n",
       "      <th>75%</th>\n",
       "      <td>23.940000</td>\n",
       "      <td>12.100000</td>\n",
       "      <td>0.040000</td>\n",
       "      <td>1.345000e+03</td>\n",
       "      <td>40.763505</td>\n",
       "      <td>-73.961651</td>\n",
       "      <td>40.763359</td>\n",
       "      <td>-73.961651</td>\n",
       "      <td>1992.000000</td>\n",
       "      <td>22.416667</td>\n",
       "      <td>45.000000</td>\n",
       "    </tr>\n",
       "    <tr>\n",
       "      <th>max</th>\n",
       "      <td>32.330000</td>\n",
       "      <td>23.600000</td>\n",
       "      <td>2.470000</td>\n",
       "      <td>3.786187e+06</td>\n",
       "      <td>40.852252</td>\n",
       "      <td>-73.884308</td>\n",
       "      <td>40.852252</td>\n",
       "      <td>-73.884308</td>\n",
       "      <td>2004.000000</td>\n",
       "      <td>63103.116667</td>\n",
       "      <td>75.000000</td>\n",
       "    </tr>\n",
       "  </tbody>\n",
       "</table>\n",
       "</div>"
      ],
      "text/plain": [
       "             Avg_Temp  Avg_Wind_Speed(mph)  Precipitation(in)  tripduration  \\\n",
       "count  1000000.000000       1000000.000000     1000000.000000  1.000000e+06   \n",
       "mean        16.286370            10.318260           0.104188  1.167016e+03   \n",
       "std          8.788715             3.687098           0.298516  1.104446e+04   \n",
       "min         -4.830000             3.300000           0.000000  6.100000e+01   \n",
       "25%          8.830000             7.700000           0.000000  4.070000e+02   \n",
       "50%         16.940000             9.600000           0.000000  7.430000e+02   \n",
       "75%         23.940000            12.100000           0.040000  1.345000e+03   \n",
       "max         32.330000            23.600000           2.470000  3.786187e+06   \n",
       "\n",
       "       start station latitude  start station longitude  end station latitude  \\\n",
       "count          1000000.000000           1000000.000000        1000000.000000   \n",
       "mean                40.740659               -73.977477             40.740331   \n",
       "std                  0.034515                 0.022671              0.034421   \n",
       "min                 40.655400               -74.025353             40.655400   \n",
       "25%                 40.717548               -73.993929             40.717452   \n",
       "50%                 40.739713               -73.981854             40.739445   \n",
       "75%                 40.763505               -73.961651             40.763359   \n",
       "max                 40.852252               -73.884308             40.852252   \n",
       "\n",
       "       end station longitude      birth year   duration_mins             age  \n",
       "count         1000000.000000  1000000.000000  1000000.000000  1000000.000000  \n",
       "mean              -73.977676     1982.712242       19.450263       37.287758  \n",
       "std                 0.022704       11.933777      184.074319       11.933777  \n",
       "min               -74.066611     1945.000000        1.016667       16.000000  \n",
       "25%               -73.993934     1975.000000        6.783333       28.000000  \n",
       "50%               -73.981918     1986.000000       12.383333       34.000000  \n",
       "75%               -73.961651     1992.000000       22.416667       45.000000  \n",
       "max               -73.884308     2004.000000    63103.116667       75.000000  "
      ]
     },
     "execution_count": 38,
     "metadata": {},
     "output_type": "execute_result"
    }
   ],
   "source": [
    "merged_final.describe()"
   ]
  },
  {
   "cell_type": "code",
   "execution_count": 39,
   "metadata": {},
   "outputs": [
    {
     "data": {
      "image/png": "[encoded data removed]",
      "text/plain": [
       "<Figure size 576x432 with 1 Axes>"
      ]
     },
     "metadata": {},
     "output_type": "display_data"
    }
   ],
   "source": [
    "# Let's check ages.\n",
    "bins = np.arange(merged_final['age'].min(), merged_final['age'].max()+5, 5)\n",
    "plt.hist(data=merged_final, x='age', bins=bins);\n",
    "plt.xticks(bins, bins);\n",
    "plt.xlabel('Age');\n",
    "plt.ylabel('Count');"
   ]
  },
  {
   "cell_type": "code",
   "execution_count": null,
   "metadata": {},
   "outputs": [],
   "source": [
    "# Now let's try durations_mins. How often does a trip usually take?"
   ]
  },
  {
   "attachments": {
    "image.png": {
     "image/png": "[encoded data removed]"
    }
   },
   "cell_type": "markdown",
   "metadata": {},
   "source": [
    "![image.png](attachment:image.png)"
   ]
  },
  {
   "cell_type": "code",
   "execution_count": 40,
   "metadata": {},
   "outputs": [
    {
     "data": {
      "text/plain": [
       "count    1000000.000000\n",
       "mean          19.450263\n",
       "std          184.074319\n",
       "min            1.016667\n",
       "50%           12.383333\n",
       "85%           29.100000\n",
       "max        63103.116667\n",
       "Name: duration_mins, dtype: float64"
      ]
     },
     "execution_count": 40,
     "metadata": {},
     "output_type": "execute_result"
    }
   ],
   "source": [
    "# LOL! I should have seen that one coming. I now see that the max value of duration_mins is 63103.116667. \n",
    "# The average is 19.450263 and 75% of the distribution is below 22.416667. SPOILER: The above graph took a while to \n",
    "# load, which is why I screenshotted the code and result and inserted it as an image instead.\n",
    "# Let's take a look at what value 85% of the population falls under.\n",
    "merged_final['duration_mins'].describe(percentiles=[.85])"
   ]
  },
  {
   "cell_type": "code",
   "execution_count": 41,
   "metadata": {},
   "outputs": [
    {
     "data": {
      "text/plain": [
       "count    1000000.000000\n",
       "mean          19.450263\n",
       "std          184.074319\n",
       "min            1.016667\n",
       "50%           12.383333\n",
       "95%           42.116667\n",
       "max        63103.116667\n",
       "Name: duration_mins, dtype: float64"
      ]
     },
     "execution_count": 41,
     "metadata": {},
     "output_type": "execute_result"
    }
   ],
   "source": [
    "# How about 95%?\n",
    "merged_final['duration_mins'].describe(percentiles=[.95])"
   ]
  },
  {
   "cell_type": "code",
   "execution_count": 42,
   "metadata": {},
   "outputs": [
    {
     "data": {
      "image/png": "[encoded data removed]",
      "text/plain": [
       "<Figure size 576x432 with 1 Axes>"
      ]
     },
     "metadata": {},
     "output_type": "display_data"
    }
   ],
   "source": [
    "# Above we checked where the values of duration_mins lie. and 95% were within 42.116667 mins, so I chose my histogram below\n",
    "# with bins of size 5, up to 50, being able to analyze the vast mayority of my data, with deeper precision.\n",
    "bins = np.arange(0, 50+5, 5)\n",
    "plt.hist(data=merged_final, x='duration_mins', bins=bins);\n",
    "plt.xticks(bins, bins);\n",
    "plt.xlabel('duration_mins');\n",
    "plt.ylabel('Count');"
   ]
  },
  {
   "cell_type": "code",
   "execution_count": 43,
   "metadata": {},
   "outputs": [
    {
     "name": "stdout",
     "output_type": "stream",
     "text": [
      "<class 'pandas.core.frame.DataFrame'>\n",
      "Int64Index: 982934 entries, 16286744 to 3299892\n",
      "Data columns (total 24 columns):\n",
      " #   Column                   Non-Null Count   Dtype         \n",
      "---  ------                   --------------   -----         \n",
      " 0   Date                     982934 non-null  datetime64[ns]\n",
      " 1   Avg_Temp                 982934 non-null  float64       \n",
      " 2   Avg_Wind_Speed(mph)      982934 non-null  float64       \n",
      " 3   Precipitation(in)        982934 non-null  float64       \n",
      " 4   tripduration             982934 non-null  int64         \n",
      " 5   starttime                982934 non-null  datetime64[ns]\n",
      " 6   stoptime                 982934 non-null  datetime64[ns]\n",
      " 7   start station id         982934 non-null  object        \n",
      " 8   start station name       982934 non-null  object        \n",
      " 9   start station latitude   982934 non-null  float64       \n",
      " 10  start station longitude  982934 non-null  float64       \n",
      " 11  end station id           982934 non-null  object        \n",
      " 12  end station name         982934 non-null  object        \n",
      " 13  end station latitude     982934 non-null  float64       \n",
      " 14  end station longitude    982934 non-null  float64       \n",
      " 15  bikeid                   982934 non-null  object        \n",
      " 16  usertype                 982934 non-null  category      \n",
      " 17  birth year               982934 non-null  int32         \n",
      " 18  gender                   982934 non-null  category      \n",
      " 19  duration_mins            982934 non-null  float64       \n",
      " 20  hourofday                982934 non-null  category      \n",
      " 21  dayofweek                982934 non-null  category      \n",
      " 22  month                    982934 non-null  category      \n",
      " 23  age                      982934 non-null  int32         \n",
      "dtypes: category(5), datetime64[ns](3), float64(8), int32(2), int64(1), object(5)\n",
      "memory usage: 147.2+ MB\n"
     ]
    }
   ],
   "source": [
    "# Let's get rid of those with a duration of more than 60 mins.\n",
    "\n",
    "merged_final = merged_final.query('duration_mins <= 60')\n",
    "merged_final.info(null_counts=True)"
   ]
  },
  {
   "cell_type": "code",
   "execution_count": 44,
   "metadata": {},
   "outputs": [
    {
     "data": {
      "text/plain": [
       "1    670138\n",
       "2    312796\n",
       "Name: gender, dtype: int64"
      ]
     },
     "execution_count": 44,
     "metadata": {},
     "output_type": "execute_result"
    }
   ],
   "source": [
    "# Let me take a look at the gender colunmn. \n",
    "merged_final.gender.value_counts()"
   ]
  },
  {
   "cell_type": "code",
   "execution_count": 45,
   "metadata": {},
   "outputs": [],
   "source": [
    "# I want to have Male and Female, instead of the numbers in the gender column.\n",
    "merged_final['gender'] = merged_final['gender'].astype('str')\n",
    "merged_final['gender'].replace('2', 'Female',inplace=True)\n",
    "merged_final['gender'].replace('1', 'Male',inplace=True)\n",
    "merged_final['gender'] = merged_final['gender'].astype('category')"
   ]
  },
  {
   "cell_type": "code",
   "execution_count": 46,
   "metadata": {},
   "outputs": [
    {
     "name": "stdout",
     "output_type": "stream",
     "text": [
      "<class 'pandas.core.frame.DataFrame'>\n",
      "Int64Index: 982934 entries, 16286744 to 3299892\n",
      "Data columns (total 24 columns):\n",
      " #   Column                   Non-Null Count   Dtype         \n",
      "---  ------                   --------------   -----         \n",
      " 0   Date                     982934 non-null  datetime64[ns]\n",
      " 1   Avg_Temp                 982934 non-null  float64       \n",
      " 2   Avg_Wind_Speed(mph)      982934 non-null  float64       \n",
      " 3   Precipitation(in)        982934 non-null  float64       \n",
      " 4   tripduration             982934 non-null  int64         \n",
      " 5   starttime                982934 non-null  datetime64[ns]\n",
      " 6   stoptime                 982934 non-null  datetime64[ns]\n",
      " 7   start station id         982934 non-null  object        \n",
      " 8   start station name       982934 non-null  object        \n",
      " 9   start station latitude   982934 non-null  float64       \n",
      " 10  start station longitude  982934 non-null  float64       \n",
      " 11  end station id           982934 non-null  object        \n",
      " 12  end station name         982934 non-null  object        \n",
      " 13  end station latitude     982934 non-null  float64       \n",
      " 14  end station longitude    982934 non-null  float64       \n",
      " 15  bikeid                   982934 non-null  object        \n",
      " 16  usertype                 982934 non-null  category      \n",
      " 17  birth year               982934 non-null  int32         \n",
      " 18  gender                   982934 non-null  category      \n",
      " 19  duration_mins            982934 non-null  float64       \n",
      " 20  hourofday                982934 non-null  category      \n",
      " 21  dayofweek                982934 non-null  category      \n",
      " 22  month                    982934 non-null  category      \n",
      " 23  age                      982934 non-null  int32         \n",
      "dtypes: category(5), datetime64[ns](3), float64(8), int32(2), int64(1), object(5)\n",
      "memory usage: 147.2+ MB\n"
     ]
    }
   ],
   "source": [
    "merged_final.info()"
   ]
  },
  {
   "cell_type": "code",
   "execution_count": 47,
   "metadata": {},
   "outputs": [
    {
     "data": {
      "text/plain": [
       "Male      670138\n",
       "Female    312796\n",
       "Name: gender, dtype: int64"
      ]
     },
     "execution_count": 47,
     "metadata": {},
     "output_type": "execute_result"
    }
   ],
   "source": [
    "merged_final.gender.value_counts()"
   ]
  },
  {
   "cell_type": "code",
   "execution_count": 48,
   "metadata": {},
   "outputs": [],
   "source": [
    "# save the clean data to a .csv file\n",
    "\n",
    "merged_final.to_csv('merged_final_clean.csv', index=False)"
   ]
  },
  {
   "cell_type": "markdown",
   "metadata": {},
   "source": [
    "# Bivariate Exploration\n",
    "\n",
    "How does the trip duration distribution vary between customers and subscribers?"
   ]
  },
  {
   "cell_type": "code",
   "execution_count": 49,
   "metadata": {},
   "outputs": [
    {
     "data": {
      "image/png": "[encoded data removed]",
      "text/plain": [
       "<Figure size 576x432 with 1 Axes>"
      ]
     },
     "metadata": {},
     "output_type": "display_data"
    }
   ],
   "source": [
    "# I love the violin plots, so I wanted to start with one of these. Let's check the trip duration for both customers\n",
    "# and subscribers.\n",
    "sb.violinplot(data=merged_final, x='usertype', y='duration_mins', color=base_color, inner='quartile');\n",
    "plt.xlabel('User Type');\n",
    "plt.ylabel('Trip Duration in Mins');"
   ]
  },
  {
   "cell_type": "markdown",
   "metadata": {},
   "source": [
    "The trip duration distribution seems to indicate that customers take longer trips on average. Subscribers seem to use the bikes for shorter trips more often. The subscribers avg is sitting close to 10 mins, indicating usage to travel to and from work perhaps, while the customer's avg is almost at 20, indicating that they rent bikes with a view to enjoy the ride, rather than using it as a tool to get to and from work.\n",
    "\n",
    "\n",
    "How does the trip duration distribution vary by gender?"
   ]
  },
  {
   "cell_type": "code",
   "execution_count": 50,
   "metadata": {},
   "outputs": [
    {
     "data": {
      "image/png": "[encoded data removed]",
      "text/plain": [
       "<Figure size 576x432 with 1 Axes>"
      ]
     },
     "metadata": {},
     "output_type": "display_data"
    }
   ],
   "source": [
    "# Let's take a look.\n",
    "sb.violinplot(data=merged_final, x='gender', y='duration_mins', color=base_color);\n",
    "plt.xlabel('Gender');\n",
    "plt.ylabel('Trip Duration in Mins');"
   ]
  },
  {
   "cell_type": "markdown",
   "metadata": {},
   "source": [
    "Here we can see that male riders tend to have shorter trips compared to female riders, indicated by both a smaller median and shorter IQR, although the difference is fairly small.\n",
    "\n",
    "Average Trip Duration on Weekdays"
   ]
  },
  {
   "cell_type": "code",
   "execution_count": 51,
   "metadata": {},
   "outputs": [
    {
     "data": {
      "image/png": "[encoded data removed]",
      "text/plain": [
       "<Figure size 576x432 with 1 Axes>"
      ]
     },
     "metadata": {},
     "output_type": "display_data"
    }
   ],
   "source": [
    "sb.barplot(data=merged_final, x='dayofweek', y='duration_mins', color=base_color);\n",
    "plt.xlabel('Day of Week');\n",
    "plt.ylabel('Avg. Trip Duration in Mins');"
   ]
  },
  {
   "cell_type": "markdown",
   "metadata": {},
   "source": [
    "The Avg trips are shorter on Monday through Friday compared to weekends. This makes sense. In the weekend, people would have more available time to enjoy the ride and thus ride for longer.\n",
    "\n",
    "Weekly usage between customers and subscribers"
   ]
  },
  {
   "cell_type": "code",
   "execution_count": 52,
   "metadata": {},
   "outputs": [
    {
     "data": {
      "image/png": "[encoded data removed]",
      "text/plain": [
       "<Figure size 576x432 with 1 Axes>"
      ]
     },
     "metadata": {},
     "output_type": "display_data"
    }
   ],
   "source": [
    "sb.countplot(data=merged_final, x='dayofweek', hue='usertype');\n",
    "plt.xlabel('Day of Week');\n",
    "plt.ylabel('Count');"
   ]
  },
  {
   "cell_type": "markdown",
   "metadata": {},
   "source": [
    "In general, we can see that there are more subscribers than customers. We can also see that while customer usage tends to go up on the weekend, subscriber usage tends to go down. The drop of volume on weekends for subscribers indicates that they primarily ride bikes to and from work during work days, whereas the opposite pattern for customers on weekends demonstrates that the use was more relaxed and enjoyed.\n",
    "\n",
    "Daily usage between customers and subscribers"
   ]
  },
  {
   "cell_type": "code",
   "execution_count": 53,
   "metadata": {
    "scrolled": false
   },
   "outputs": [
    {
     "data": {
      "image/png": "[encoded data removed]",
      "text/plain": [
       "<Figure size 576x432 with 1 Axes>"
      ]
     },
     "metadata": {},
     "output_type": "display_data"
    }
   ],
   "source": [
    "sb.countplot(data=merged_final, x='hourofday', hue='usertype');\n",
    "plt.xlabel('Hour of the Day');\n",
    "plt.ylabel('Count');"
   ]
  },
  {
   "cell_type": "markdown",
   "metadata": {},
   "source": [
    "Analyzing the subscribers user type, we see two peaks, one in the morning around 8 and one in the evening around 17:00. This seems to confirm our theory that subscribers tend to use this as a tool to go and come from work.\n",
    "\n",
    "Checking the Customer user type, we see that there isn't really a peak, it's more a curve, and the highest point is around 17:00. This confirms the usage is more a leasure type as it's spread out more evenly.\n",
    "\n",
    "Monthly usage between customers and subscribers"
   ]
  },
  {
   "cell_type": "code",
   "execution_count": 54,
   "metadata": {
    "scrolled": false
   },
   "outputs": [
    {
     "data": {
      "image/png": "[encoded data removed]",
      "text/plain": [
       "<Figure size 576x432 with 1 Axes>"
      ]
     },
     "metadata": {},
     "output_type": "display_data"
    }
   ],
   "source": [
    "sb.countplot(data=merged_final, x='month', hue='usertype');\n",
    "plt.xticks(rotation=45);\n",
    "plt.xlabel('Month');\n",
    "plt.ylabel('Count');"
   ]
  },
  {
   "cell_type": "markdown",
   "metadata": {},
   "source": [
    "We can see that going from Jan to April there was a decrease in usage for the subscribers, this could have been as a result of the Covid-19 pandemic. After this it went up and peaked for both groups in September. The weather could have influenced on this, which we'll analyze later.\n",
    "\n",
    "Users age between customers and subscribers"
   ]
  },
  {
   "cell_type": "code",
   "execution_count": 55,
   "metadata": {
    "scrolled": false
   },
   "outputs": [
    {
     "data": {
      "image/png": "[encoded data removed]",
      "text/plain": [
       "<Figure size 576x432 with 1 Axes>"
      ]
     },
     "metadata": {},
     "output_type": "display_data"
    }
   ],
   "source": [
    "sb.boxplot(data=merged_final, x='usertype', y='age', color=base_color);\n",
    "plt.xlabel('User Type');\n",
    "plt.ylabel('Age');"
   ]
  },
  {
   "cell_type": "markdown",
   "metadata": {},
   "source": [
    "We can see that the subscribers group is slightly older and the ages also vary more in this group. The customers tend to be younger and the age difference varies less.\n",
    "\n",
    "Let's take a look at temperature."
   ]
  },
  {
   "cell_type": "code",
   "execution_count": 56,
   "metadata": {},
   "outputs": [
    {
     "data": {
      "text/plain": [
       "count    982934.000000\n",
       "mean         16.259518\n",
       "std           8.795074\n",
       "min          -4.830000\n",
       "25%           8.780000\n",
       "50%          16.940000\n",
       "75%          23.940000\n",
       "max          32.330000\n",
       "Name: Avg_Temp, dtype: float64"
      ]
     },
     "execution_count": 56,
     "metadata": {},
     "output_type": "execute_result"
    }
   ],
   "source": [
    "merged_final.Avg_Temp.describe()"
   ]
  },
  {
   "cell_type": "code",
   "execution_count": 57,
   "metadata": {},
   "outputs": [
    {
     "data": {
      "image/png": "[encoded data removed]",
      "text/plain": [
       "<Figure size 576x432 with 1 Axes>"
      ]
     },
     "metadata": {},
     "output_type": "display_data"
    }
   ],
   "source": [
    "bins = np.arange(-5, merged_final['Avg_Temp'].max()+5, 5)\n",
    "plt.hist(data=merged_final, x='Avg_Temp', bins=bins);\n",
    "plt.xticks(bins, bins);\n",
    "plt.xlabel('Average Temperature');\n",
    "plt.ylabel('Count of bike rides');"
   ]
  },
  {
   "cell_type": "markdown",
   "metadata": {},
   "source": [
    "Not much to see here, let's split it into groups. One for Customer, using the bikes for 24 h or less, and another for the anual members, subscribers."
   ]
  },
  {
   "cell_type": "code",
   "execution_count": 58,
   "metadata": {
    "scrolled": false
   },
   "outputs": [
    {
     "data": {
      "image/png": "[encoded data removed]",
      "text/plain": [
       "<Figure size 576x432 with 1 Axes>"
      ]
     },
     "metadata": {},
     "output_type": "display_data"
    }
   ],
   "source": [
    "customers = merged_final.query('usertype == \"Customer\"')\n",
    "bins = np.arange(-5, customers['Avg_Temp'].max()+5, 5)\n",
    "plt.hist(data=customers, x='Avg_Temp', bins=bins);\n",
    "plt.xticks(bins, bins);\n",
    "plt.xlabel('Average Temperature');\n",
    "plt.ylabel('Count of Customer bike rides');\n"
   ]
  },
  {
   "cell_type": "markdown",
   "metadata": {},
   "source": [
    "Interestingly, it seems that Customers have a preference in temperature. The hotter it is, the more likely they are to hire a bike. The last column, values from 30.0 to 35.0 is lower, possibly due to the fact it just doesn't get that hot in NYC as it does here in Spain."
   ]
  },
  {
   "cell_type": "code",
   "execution_count": 59,
   "metadata": {},
   "outputs": [
    {
     "data": {
      "image/png": "[encoded data removed]",
      "text/plain": [
       "<Figure size 576x432 with 1 Axes>"
      ]
     },
     "metadata": {},
     "output_type": "display_data"
    }
   ],
   "source": [
    "subscribers = merged_final.query('usertype == \"Subscriber\"')\n",
    "bins = np.arange(-5, subscribers['Avg_Temp'].max()+5, 5)\n",
    "plt.hist(data=subscribers, x='Avg_Temp', bins=bins);\n",
    "plt.xticks(bins, bins);\n",
    "plt.xlabel('Average Temperature');\n",
    "plt.ylabel('Count of Subscriber bike rides');\n"
   ]
  },
  {
   "cell_type": "markdown",
   "metadata": {},
   "source": [
    "On the Subscribers front, which we said were anual members, and tend to use the bike to go to and from work, they seem to mind less about temperature, as seen by the wider distribution."
   ]
  },
  {
   "cell_type": "code",
   "execution_count": 60,
   "metadata": {},
   "outputs": [
    {
     "data": {
      "text/plain": [
       "(30.0, 35.0]      19843\n",
       "(-5.001, 0.0]     26845\n",
       "(0.0, 5.0]        97098\n",
       "(10.0, 15.0]     145219\n",
       "(5.0, 10.0]      164103\n",
       "(15.0, 20.0]     164929\n",
       "(25.0, 30.0]     178849\n",
       "(20.0, 25.0]     186048\n",
       "Name: Avg_Temp, dtype: int64"
      ]
     },
     "execution_count": 60,
     "metadata": {},
     "output_type": "execute_result"
    }
   ],
   "source": [
    "# Let me just confirm how many records were available for the bins.\n",
    "bins = np.arange(-5, customers['Avg_Temp'].max()+5, 5)\n",
    "merged_final.Avg_Temp.value_counts(ascending=True, bins=bins)\n"
   ]
  },
  {
   "cell_type": "markdown",
   "metadata": {},
   "source": [
    "Indeed, as seen, the count of values from 30.0 to 35.0 is only 19843, therefore it's a smaller bar relative to the others next to it."
   ]
  },
  {
   "cell_type": "markdown",
   "metadata": {},
   "source": [
    "\n",
    "\n",
    "### What did we see so far?\n",
    "We saw there were more subscribers than customers overall. We saw the subscribers used this to travel to and from work, where the customers used this throughout the day, more for leasure purposes. More trips were recorded on weekdays vs weekends for subscribers, also you could clearly see two peak hour patterns in the data. We saw these people were also slightly older on average. We also explored and saw they rode bikes in very diverse weathers.\n",
    "\n",
    "For the Customers, these were on average slightly younger and we saw a clear correlation between rides and temperature in this group. The higher the temperature, the more people chose to ride a bike.\n",
    "\n",
    "### Anything else?\n",
    "There was a slight decrease in usage from the customer group in July, and for both groups the peak usage was in September. I expected this to be some time in July or August. I guess this could be influenced by Covid-19, as restrictions were being eased and people were more likely to go out and rent a bike. There isn't enough data here to confirm or deny that, though. It's just a thought.\n",
    "\n",
    "# Multivariate Exploration\n",
    "How does the average trip duration vary in weekdays between customers and subscribers?"
   ]
  },
  {
   "cell_type": "code",
   "execution_count": 61,
   "metadata": {
    "scrolled": false
   },
   "outputs": [
    {
     "data": {
      "image/png": "[encoded data removed]",
      "text/plain": [
       "<Figure size 576x432 with 1 Axes>"
      ]
     },
     "metadata": {},
     "output_type": "display_data"
    }
   ],
   "source": [
    "sb.pointplot(data=merged_final, x='dayofweek', y='duration_mins', hue='usertype', dodge=0.25);\n",
    "plt.xlabel('Day of the Week');\n",
    "plt.ylabel('Avg. Trip Duration in Mins');"
   ]
  },
  {
   "cell_type": "markdown",
   "metadata": {},
   "source": [
    "Subscribers tend to take shorter trips than customers. This makes sense, your morning trip to work on a bike is supposed to be quick and effective, not long and enjoyable. :)\n",
    "\n",
    "Both groups have an increase on the weekend vs the weekdays.\n",
    "The Customer group takes longer trips on average than the Subscribers. \n",
    "\n",
    "How does the hourly usage vary during weekdays for customers and subscribers?"
   ]
  },
  {
   "cell_type": "code",
   "execution_count": 62,
   "metadata": {},
   "outputs": [
    {
     "data": {
      "image/png": "[encoded data removed]",
      "text/plain": [
       "<Figure size 576x432 with 4 Axes>"
      ]
     },
     "metadata": {},
     "output_type": "display_data"
    }
   ],
   "source": [
    "plt.suptitle('Hourly Usage during Weekdays for Customers and Subscribers')\n",
    "\n",
    "plt.subplot(2, 1, 1)\n",
    "customers = merged_final.query('usertype == \"Customer\"')\n",
    "ct_counts = customers.groupby(['dayofweek', 'hourofday']).size()\n",
    "ct_counts = ct_counts.reset_index(name='count')\n",
    "ct_counts = ct_counts.pivot(index='dayofweek', columns='hourofday', values='count')\n",
    "sb.heatmap(ct_counts, cmap='icefire_r');\n",
    "plt.title('Customer', loc='right');\n",
    "plt.xlabel('Hour of the Day');\n",
    "plt.ylabel('Day of the Week');\n",
    "\n",
    "plt.subplot(2, 1, 2)\n",
    "subscribers = merged_final.query('usertype == \"Subscriber\"')\n",
    "st_counts = subscribers.groupby(['dayofweek', 'hourofday']).size()\n",
    "st_counts = st_counts.reset_index(name='count')\n",
    "st_counts = st_counts.pivot(index='dayofweek', columns='hourofday', values='count')\n",
    "sb.heatmap(st_counts, cmap='icefire_r');\n",
    "plt.title('Subscriber', loc='right');\n",
    "plt.xlabel('Hour of the Day');\n",
    "plt.ylabel('Day of the Week');"
   ]
  },
  {
   "cell_type": "markdown",
   "metadata": {},
   "source": [
    "The heatmaps on the top shows our peak being on the weekend overall.<br>\n",
    "The bottom one shows that our peaks are in the weekdays and also at the same times, morning and evening.<br>\n",
    "The different patterns between the two is rather obvious."
   ]
  },
  {
   "cell_type": "code",
   "execution_count": null,
   "metadata": {},
   "outputs": [],
   "source": [
    "# Now I am going to split data for the temperature into buckets, using the help from the link below.\n",
    "# https://www.codeforests.com/2020/08/30/pandas-split-data-into-buckets/"
   ]
  },
  {
   "cell_type": "code",
   "execution_count": 63,
   "metadata": {},
   "outputs": [],
   "source": [
    "merged_final['how_cold'] = pd.cut(merged_final['Avg_Temp'], 5, labels=['very_cold', 'cold', 'normal', 'hot', 'very_hot'])"
   ]
  },
  {
   "cell_type": "code",
   "execution_count": 64,
   "metadata": {},
   "outputs": [
    {
     "data": {
      "text/html": [
       "<div>\n",
       "<style scoped>\n",
       "    .dataframe tbody tr th:only-of-type {\n",
       "        vertical-align: middle;\n",
       "    }\n",
       "\n",
       "    .dataframe tbody tr th {\n",
       "        vertical-align: top;\n",
       "    }\n",
       "\n",
       "    .dataframe thead th {\n",
       "        text-align: right;\n",
       "    }\n",
       "</style>\n",
       "<table border=\"1\" class=\"dataframe\">\n",
       "  <thead>\n",
       "    <tr style=\"text-align: right;\">\n",
       "      <th></th>\n",
       "      <th>Date</th>\n",
       "      <th>Avg_Temp</th>\n",
       "      <th>Avg_Wind_Speed(mph)</th>\n",
       "      <th>Precipitation(in)</th>\n",
       "      <th>tripduration</th>\n",
       "      <th>starttime</th>\n",
       "      <th>stoptime</th>\n",
       "      <th>start station id</th>\n",
       "      <th>start station name</th>\n",
       "      <th>start station latitude</th>\n",
       "      <th>...</th>\n",
       "      <th>bikeid</th>\n",
       "      <th>usertype</th>\n",
       "      <th>birth year</th>\n",
       "      <th>gender</th>\n",
       "      <th>duration_mins</th>\n",
       "      <th>hourofday</th>\n",
       "      <th>dayofweek</th>\n",
       "      <th>month</th>\n",
       "      <th>age</th>\n",
       "      <th>how_cold</th>\n",
       "    </tr>\n",
       "  </thead>\n",
       "  <tbody>\n",
       "    <tr>\n",
       "      <th>16286744</th>\n",
       "      <td>2020-01-12</td>\n",
       "      <td>5.44</td>\n",
       "      <td>16.4</td>\n",
       "      <td>0.00</td>\n",
       "      <td>598</td>\n",
       "      <td>2020-01-12 10:27:51.398</td>\n",
       "      <td>2020-01-12 10:37:49.402</td>\n",
       "      <td>3147</td>\n",
       "      <td>E 85 St &amp; 3 Ave</td>\n",
       "      <td>40.778012</td>\n",
       "      <td>...</td>\n",
       "      <td>41059</td>\n",
       "      <td>Subscriber</td>\n",
       "      <td>1964</td>\n",
       "      <td>Male</td>\n",
       "      <td>9.966667</td>\n",
       "      <td>10</td>\n",
       "      <td>Sunday</td>\n",
       "      <td>January</td>\n",
       "      <td>56</td>\n",
       "      <td>cold</td>\n",
       "    </tr>\n",
       "    <tr>\n",
       "      <th>16746485</th>\n",
       "      <td>2020-09-12</td>\n",
       "      <td>7.28</td>\n",
       "      <td>10.5</td>\n",
       "      <td>0.02</td>\n",
       "      <td>736</td>\n",
       "      <td>2020-09-12 18:55:31.546</td>\n",
       "      <td>2020-09-12 19:07:48.507</td>\n",
       "      <td>4073</td>\n",
       "      <td>W 51 St &amp; Rockefeller Plaza</td>\n",
       "      <td>40.759700</td>\n",
       "      <td>...</td>\n",
       "      <td>15688</td>\n",
       "      <td>Subscriber</td>\n",
       "      <td>1951</td>\n",
       "      <td>Male</td>\n",
       "      <td>12.266667</td>\n",
       "      <td>18</td>\n",
       "      <td>Saturday</td>\n",
       "      <td>September</td>\n",
       "      <td>69</td>\n",
       "      <td>cold</td>\n",
       "    </tr>\n",
       "    <tr>\n",
       "      <th>3148492</th>\n",
       "      <td>2020-03-15</td>\n",
       "      <td>8.06</td>\n",
       "      <td>9.4</td>\n",
       "      <td>0.00</td>\n",
       "      <td>565</td>\n",
       "      <td>2020-03-15 10:53:20.261</td>\n",
       "      <td>2020-03-15 11:02:46.098</td>\n",
       "      <td>161</td>\n",
       "      <td>LaGuardia Pl &amp; W 3 St</td>\n",
       "      <td>40.729170</td>\n",
       "      <td>...</td>\n",
       "      <td>41128</td>\n",
       "      <td>Subscriber</td>\n",
       "      <td>1988</td>\n",
       "      <td>Male</td>\n",
       "      <td>9.416667</td>\n",
       "      <td>10</td>\n",
       "      <td>Sunday</td>\n",
       "      <td>March</td>\n",
       "      <td>32</td>\n",
       "      <td>cold</td>\n",
       "    </tr>\n",
       "    <tr>\n",
       "      <th>13442322</th>\n",
       "      <td>2020-09-10</td>\n",
       "      <td>17.00</td>\n",
       "      <td>6.7</td>\n",
       "      <td>0.00</td>\n",
       "      <td>1241</td>\n",
       "      <td>2020-09-10 14:01:24.443</td>\n",
       "      <td>2020-09-10 14:22:05.471</td>\n",
       "      <td>83</td>\n",
       "      <td>Atlantic Ave &amp; Fort Greene Pl</td>\n",
       "      <td>40.683826</td>\n",
       "      <td>...</td>\n",
       "      <td>46614</td>\n",
       "      <td>Subscriber</td>\n",
       "      <td>1987</td>\n",
       "      <td>Female</td>\n",
       "      <td>20.683333</td>\n",
       "      <td>14</td>\n",
       "      <td>Thursday</td>\n",
       "      <td>September</td>\n",
       "      <td>33</td>\n",
       "      <td>normal</td>\n",
       "    </tr>\n",
       "    <tr>\n",
       "      <th>1525838</th>\n",
       "      <td>2020-07-02</td>\n",
       "      <td>4.39</td>\n",
       "      <td>17.1</td>\n",
       "      <td>0.19</td>\n",
       "      <td>218</td>\n",
       "      <td>2020-07-02 16:05:13.246</td>\n",
       "      <td>2020-07-02 16:08:52.018</td>\n",
       "      <td>3609</td>\n",
       "      <td>Vernon Blvd &amp; 31 Ave</td>\n",
       "      <td>40.769247</td>\n",
       "      <td>...</td>\n",
       "      <td>40182</td>\n",
       "      <td>Subscriber</td>\n",
       "      <td>1984</td>\n",
       "      <td>Male</td>\n",
       "      <td>3.633333</td>\n",
       "      <td>16</td>\n",
       "      <td>Thursday</td>\n",
       "      <td>July</td>\n",
       "      <td>36</td>\n",
       "      <td>cold</td>\n",
       "    </tr>\n",
       "  </tbody>\n",
       "</table>\n",
       "<p>5 rows × 25 columns</p>\n",
       "</div>"
      ],
      "text/plain": [
       "               Date  Avg_Temp  Avg_Wind_Speed(mph)  Precipitation(in)  \\\n",
       "16286744 2020-01-12      5.44                 16.4               0.00   \n",
       "16746485 2020-09-12      7.28                 10.5               0.02   \n",
       "3148492  2020-03-15      8.06                  9.4               0.00   \n",
       "13442322 2020-09-10     17.00                  6.7               0.00   \n",
       "1525838  2020-07-02      4.39                 17.1               0.19   \n",
       "\n",
       "          tripduration               starttime                stoptime  \\\n",
       "16286744           598 2020-01-12 10:27:51.398 2020-01-12 10:37:49.402   \n",
       "16746485           736 2020-09-12 18:55:31.546 2020-09-12 19:07:48.507   \n",
       "3148492            565 2020-03-15 10:53:20.261 2020-03-15 11:02:46.098   \n",
       "13442322          1241 2020-09-10 14:01:24.443 2020-09-10 14:22:05.471   \n",
       "1525838            218 2020-07-02 16:05:13.246 2020-07-02 16:08:52.018   \n",
       "\n",
       "         start station id             start station name  \\\n",
       "16286744             3147                E 85 St & 3 Ave   \n",
       "16746485             4073    W 51 St & Rockefeller Plaza   \n",
       "3148492               161          LaGuardia Pl & W 3 St   \n",
       "13442322               83  Atlantic Ave & Fort Greene Pl   \n",
       "1525838              3609           Vernon Blvd & 31 Ave   \n",
       "\n",
       "          start station latitude  ...  bikeid    usertype birth year  gender  \\\n",
       "16286744               40.778012  ...   41059  Subscriber       1964    Male   \n",
       "16746485               40.759700  ...   15688  Subscriber       1951    Male   \n",
       "3148492                40.729170  ...   41128  Subscriber       1988    Male   \n",
       "13442322               40.683826  ...   46614  Subscriber       1987  Female   \n",
       "1525838                40.769247  ...   40182  Subscriber       1984    Male   \n",
       "\n",
       "          duration_mins hourofday dayofweek      month age  how_cold  \n",
       "16286744       9.966667        10    Sunday    January  56      cold  \n",
       "16746485      12.266667        18  Saturday  September  69      cold  \n",
       "3148492        9.416667        10    Sunday      March  32      cold  \n",
       "13442322      20.683333        14  Thursday  September  33    normal  \n",
       "1525838        3.633333        16  Thursday       July  36      cold  \n",
       "\n",
       "[5 rows x 25 columns]"
      ]
     },
     "execution_count": 64,
     "metadata": {},
     "output_type": "execute_result"
    }
   ],
   "source": [
    "# Let's check that.\n",
    "merged_final.head()"
   ]
  },
  {
   "cell_type": "code",
   "execution_count": 67,
   "metadata": {},
   "outputs": [
    {
     "data": {
      "image/png": "[encoded data removed]",
      "text/plain": [
       "<Figure size 576x432 with 1 Axes>"
      ]
     },
     "metadata": {},
     "output_type": "display_data"
    }
   ],
   "source": [
    "# Now I can plot this properly.\n",
    "sb.pointplot(data=merged_final, x='how_cold', y='duration_mins', hue='usertype', dodge=0.25);\n",
    "plt.xlabel('How Cold');\n",
    "plt.ylabel('Avg. Trip Duration in Mins');"
   ]
  },
  {
   "cell_type": "markdown",
   "metadata": {},
   "source": [
    "Here we can clearly see that temperature influences the lenght that users will use the bike for, being longer for both user types the hotter it gets, and considerably more so for the Subscriber type."
   ]
  },
  {
   "cell_type": "markdown",
   "metadata": {},
   "source": [
    "## What did we learn after all the above observations?\n",
    "I think it's safe to say that weather or temperature plays a role in our bike dataframe.\n",
    "People tend to bike more when the weather is 20 degrees or more, especially those who rent bikes for 24 hours. This seemed to confirm what we had been finding along our other previous explorations.\n",
    "In general, there are more Subscribers than Customers. Subscribers have a clear pattern of using this for work commute.\n",
    "Customers seem to rent bikes when the weather is warmer. They also take longer on their bike rides.\n",
    "Our heatmap provided great insight as to when each group tends to use our services."
   ]
  }
 ],
 "metadata": {
  "kernelspec": {
   "display_name": "Python 3",
   "language": "python",
   "name": "python3"
  },
  "language_info": {
   "codemirror_mode": {
    "name": "ipython",
    "version": 3
   },
   "file_extension": ".py",
   "mimetype": "text/x-python",
   "name": "python",
   "nbconvert_exporter": "python",
   "pygments_lexer": "ipython3",
   "version": "3.8.5"
  }
 },
 "nbformat": 4,
 "nbformat_minor": 4
}
